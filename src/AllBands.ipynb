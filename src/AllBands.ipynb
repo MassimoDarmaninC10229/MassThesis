{
 "cells": [
  {
   "cell_type": "code",
   "execution_count": 6,
   "metadata": {},
   "outputs": [],
   "source": [
    "import os\n",
    "from pathlib import Path\n",
    "from netCDF4 import Dataset\n",
    "import pandas as pd\n",
    "import numpy as np\n",
    "import snappy\n",
    "from snappy import HashMap\n",
    "import gc   \n",
    "from snappy import GPF\n",
    "jpy = snappy.jpy\n",
    "from snappy import ProductIO, File\n",
    "import matplotlib.pyplot as plt\n",
    "import matplotlib.cm as cm\n",
    "import cartopy.crs as ccrs\n",
    "import numpy as np\n",
    "import rasterio\n",
    "from rasterio.windows import Window\n",
    "from rasterio.plot import show\n",
    "from rasterio.enums import Resampling\n",
    "import cartopy.crs as ccrs"
   ]
  },
  {
   "cell_type": "code",
   "execution_count": 35,
   "metadata": {},
   "outputs": [
    {
     "name": "stdout",
     "output_type": "stream",
     "text": [
      "C:\\Users\\Massimo\\Documents\\SchoolFolder\\ThirdYear\\Thesis\\MassThesis\\src\\TIF\\AllBandsTiff\n"
     ]
    }
   ],
   "source": [
    "##init variables\n",
    "File = jpy.get_type('java.io.File') #file type   \n",
    "\n",
    "pc_base_directory = ('C:/Sentinel 3 Data/') \n",
    "laptop_base_directory = ('C:/Users/Massimo/Documents/SchoolFolder/ThirdYear/Thesis/MassThesis/src/TIF/AllBandsTiff')\n",
    "\n",
    "base_directory = laptop_base_directory\n",
    "k=0\n",
    "path = Path(base_directory)\n",
    "print(path)\n",
    "\n",
    "## Details about Folder\n",
    "full_name = []\n",
    "sat = []\n",
    "sensor = []\n",
    "date_format = []\n",
    "time_format = []\n",
    "\n",
    "##########################################"
   ]
  },
  {
   "cell_type": "code",
   "execution_count": 46,
   "metadata": {},
   "outputs": [
    {
     "name": "stdout",
     "output_type": "stream",
     "text": [
      "Directory open:\n",
      "['C:/Users/Massimo/Documents/SchoolFolder/ThirdYear/Thesis/MassThesis/src/TIF/AllBandsTiff']\n",
      "\n",
      "\n",
      "Product Names:\n",
      "Subset_projected_S3A_SL_2_LST____20190317T084957_20190317T085257_20210119T200650_0179_042_278_2340_LR1_R_NT_004.SEN3.tif\n",
      "Subset_projected_S3A_SL_2_LST____20190324T090841_20190324T091141_20210119T205008_0179_042_378_2340_LR1_R_NT_004.SEN3.tif\n",
      "Subset_projected_S3A_SL_2_LST____20190818T085729_20190818T090029_20210120T113758_0179_048_164_2340_LR1_R_NT_004.SEN3.tif\n",
      "Subset_projected_S3A_SL_2_LST____20190822T085344_20190822T085644_20210120T115915_0179_048_221_2340_LR1_R_NT_004.SEN3.tif\n",
      "Subset_projected_S3A_SL_2_LST____20200323T093223_20200323T111323_20200324T165625_6059_056_193______LN2_O_NT_004.SEN3.tif\n",
      "Subset_projected_S3A_SL_2_LST____20200324T090613_20200324T104712_20200325T162341_6059_056_207______LN2_O_NT_004.SEN3.tif\n"
     ]
    }
   ],
   "source": [
    "for root, dirs, files in os.walk(base_directory):\n",
    "    path = root.split(os.sep)\n",
    "\n",
    "    print('Directory open:')\n",
    "    print(path)\n",
    "    print('\\n\\nProduct Names:')\n",
    "\n",
    "    for name in files:\n",
    "        #print(os.path.join(root, name))\n",
    "        print(name)\n",
    "        ##populating full_name[]\n",
    "        full_name.append(str(name))\n"
   ]
  }
 ],
 "metadata": {
  "interpreter": {
   "hash": "12ffa7c1e0c26126cd67100676ae2d2fa7567739e3c24303a57b27ee7196024e"
  },
  "kernelspec": {
   "display_name": "Python 3.6.15 ('snap')",
   "language": "python",
   "name": "python3"
  },
  "language_info": {
   "codemirror_mode": {
    "name": "ipython",
    "version": 3
   },
   "file_extension": ".py",
   "mimetype": "text/x-python",
   "name": "python",
   "nbconvert_exporter": "python",
   "pygments_lexer": "ipython3",
   "version": "3.6.15"
  },
  "orig_nbformat": 4
 },
 "nbformat": 4,
 "nbformat_minor": 2
}
