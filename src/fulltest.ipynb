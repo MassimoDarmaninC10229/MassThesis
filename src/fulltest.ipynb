{
 "cells": [
  {
   "cell_type": "markdown",
   "metadata": {},
   "source": [
    "init"
   ]
  },
  {
   "cell_type": "code",
   "execution_count": 35,
   "metadata": {},
   "outputs": [],
   "source": [
    "import snappy\n",
    "from snappy import HashMap\n",
    "import gc   \n",
    "from snappy import GPF\n",
    "jpy = snappy.jpy\n",
    "from snappy import ProductIO, File\n",
    "import matplotlib.pyplot as plt\n",
    "import matplotlib.cm as cm\n",
    "import cartopy.crs as ccrs\n",
    "import numpy as np\n",
    "import rasterio\n",
    "from rasterio.windows import Window\n",
    "from rasterio.plot import show\n",
    "from rasterio.enums import Resampling\n",
    "import cartopy.crs as ccrs"
   ]
  },
  {
   "cell_type": "code",
   "execution_count": 36,
   "metadata": {},
   "outputs": [],
   "source": [
    "#file type\n",
    "File = jpy.get_type('java.io.File')\n",
    "\n",
    "#product to be used\n",
    "archi=File('C:/Users/Massimo/Documents/SchoolFolder/ThirdYear/Thesis/SentinelData/2021/extra/S3B_SL_2_LST____20210616T094035_20210616T094335_20210617T190722_0179_053_307_2340_LN2_O_NT_004.SEN3')"
   ]
  },
  {
   "cell_type": "markdown",
   "metadata": {},
   "source": [
    "Reading Product"
   ]
  },
  {
   "cell_type": "code",
   "execution_count": 37,
   "metadata": {},
   "outputs": [],
   "source": [
    "archi=File('C:/Users/Massimo/Documents/SchoolFolder/ThirdYear/Thesis/SentinelData/2021/extra/S3B_SL_2_LST____20210616T094035_20210616T094335_20210617T190722_0179_053_307_2340_LN2_O_NT_004.SEN3')\n",
    "product = ProductIO.readProduct(archi)\n",
    "reader = snappy.ProductIO.getProductReader('SEN3')"
   ]
  },
  {
   "cell_type": "code",
   "execution_count": 38,
   "metadata": {},
   "outputs": [
    {
     "data": {
      "text/plain": [
       "['LST_uncertainty_locATM',\n",
       " 'LST_uncertainty_locGEO',\n",
       " 'LST_uncertainty_locSF',\n",
       " 'LST_uncertainty_locT',\n",
       " 'LST_uncertainty_random',\n",
       " 'LST_uncertainty_sys',\n",
       " 'NDVI',\n",
       " 'TCWV',\n",
       " 'biome',\n",
       " 'fraction',\n",
       " 'LST',\n",
       " 'LST_uncertainty',\n",
       " 'exception',\n",
       " 'x_in',\n",
       " 'y_in',\n",
       " 'bayes_in',\n",
       " 'cloud_in',\n",
       " 'confidence_in',\n",
       " 'pointing_in',\n",
       " 'probability_cloud_dual_in',\n",
       " 'probability_cloud_single_in',\n",
       " 'elevation_in',\n",
       " 'latitude_in',\n",
       " 'longitude_in',\n",
       " 'detector_in',\n",
       " 'pixel_in',\n",
       " 'scan_in']"
      ]
     },
     "execution_count": 38,
     "metadata": {},
     "output_type": "execute_result"
    }
   ],
   "source": [
    "#listing all bands\n",
    "list(product.getBandNames())"
   ]
  },
  {
   "cell_type": "code",
   "execution_count": 39,
   "metadata": {},
   "outputs": [],
   "source": [
    "band = product.getBand('LST') # Assign Band to a variable\n",
    "w = product.getSceneRasterWidth() # Get Band Width\n",
    "h = product.getSceneRasterHeight() # Get Band Height"
   ]
  },
  {
   "cell_type": "markdown",
   "metadata": {},
   "source": [
    "Creating image from product for reference"
   ]
  },
  {
   "cell_type": "code",
   "execution_count": 40,
   "metadata": {},
   "outputs": [
    {
     "data": {
      "text/plain": [
       "<Figure size 1296x720 with 0 Axes>"
      ]
     },
     "execution_count": 40,
     "metadata": {},
     "output_type": "execute_result"
    },
    {
     "data": {
      "text/plain": [
       "<Figure size 1296x720 with 0 Axes>"
      ]
     },
     "metadata": {},
     "output_type": "display_data"
    }
   ],
   "source": [
    "# Create an empty array\n",
    "band_data = np.zeros(w * h, np.float32)\n",
    "# Populate array with pixel value\n",
    "band.readPixels(0, 0, w, h, band_data) \n",
    "# Reshape\n",
    "band_data.shape = h, w\n",
    "# Plot the band  \n",
    "plt.figure(figsize=(18,10))"
   ]
  },
  {
   "cell_type": "code",
   "execution_count": 41,
   "metadata": {},
   "outputs": [
    {
     "data": {
      "image/png": "[encoded data removed]",
      "text/plain": [
       "<Figure size 432x288 with 3 Axes>"
      ]
     },
     "metadata": {
      "needs_background": "light"
     },
     "output_type": "display_data"
    }
   ],
   "source": [
    "##Heatmap colours\n",
    "color = cm.jet\n",
    "color.set_bad('white')\n",
    "#plt.imshow(band_data, cmap = color)\n",
    "\n",
    "#plt.show()\n",
    "\n",
    "plt.subplot(131)\n",
    "plt.imshow(band_data, cmap='gray'), plt.title('Grey')\n",
    "plt.axis('off')\n",
    "plt.subplot(132)\n",
    "plt.imshow(band_data, cmap = plt.cm.binary), plt.title('Binary')\n",
    "plt.axis('off')\n",
    "plt.subplot(133)\n",
    "plt.imshow(band_data, cmap = color), plt.title('color')\n",
    "plt.axis('off')\n",
    "plt.show()"
   ]
  },
  {
   "cell_type": "markdown",
   "metadata": {},
   "source": [
    "Create geoTiff"
   ]
  },
  {
   "cell_type": "code",
   "execution_count": 42,
   "metadata": {},
   "outputs": [],
   "source": [
    "ProductIO.writeProduct(product, 'fulltestTiff', 'GeoTIFF-BigTIFF')"
   ]
  },
  {
   "cell_type": "markdown",
   "metadata": {},
   "source": [
    "Cropping geoTiff"
   ]
  },
  {
   "cell_type": "code",
   "execution_count": 43,
   "metadata": {},
   "outputs": [
    {
     "name": "stderr",
     "output_type": "stream",
     "text": [
      "WARNING:rasterio._env:CPLE_AppDefined in TIFFReadDirectory:Sum of Photometric type-related color channels and ExtraSamples doesn't match SamplesPerPixel. Defining non-color channels as ExtraSamples.\n"
     ]
    }
   ],
   "source": [
    "with rasterio.open('fulltestTiff.tif') as src:\n",
    "\n",
    "    # The size in pixels of your desired window\n",
    "    #xsize, ysize = 512, 512\n",
    "    xsize, ysize = 64, 64\n",
    "\n",
    "    # Generate a random window location that doesn't go outside the image\n",
    "    xmin, xmax = 0, src.width - xsize\n",
    "    ymin, ymax = 0, src.height - ysize\n",
    "    #xoff, yoff = random.randint(xmin, xmax), random.randint(ymin, ymax)\n",
    "    xoff, yoff = 1270, 390\n",
    "\n",
    "    # Create a Window and calculate the transform from the source dataset    \n",
    "    window = Window(xoff, yoff, xsize, ysize)\n",
    "    '''print('xoff: ' + str(xoff))\n",
    "    print('yoff: ' + str(yoff))\n",
    "    print('xsize: ' + str(xsize))\n",
    "    print('ysize: ' + str(ysize))'''\n",
    "    transform = src.window_transform(window)\n",
    "\n",
    "    # Create a new cropped raster to write to\n",
    "    profile = src.profile\n",
    "    profile.update({\n",
    "        'height': xsize,\n",
    "        'width': ysize,\n",
    "        'transform': transform})\n",
    "\n",
    "    with rasterio.open('cropped.tif', 'w', **profile) as dst:\n",
    "        # Read the data from the window and write it to the output raster\n",
    "        dst.write(src.read(window=window))"
   ]
  },
  {
   "cell_type": "markdown",
   "metadata": {},
   "source": [
    "Visualising Crop"
   ]
  },
  {
   "cell_type": "code",
   "execution_count": 44,
   "metadata": {},
   "outputs": [
    {
     "name": "stdout",
     "output_type": "stream",
     "text": [
      "{'driver': 'GTiff', 'dtype': 'int32', 'nodata': None, 'width': 64, 'height': 64, 'count': 27, 'crs': CRS.from_epsg(4326), 'transform': Affine(0.010635999999999979, 0.0, 14.067394999999973,\n",
      "       0.0, -0.009772000000005221, 38.19258699999797)}\n"
     ]
    }
   ],
   "source": [
    "raster = rasterio.open('cropped.tif')\n",
    "\n",
    "# This will print out a short version of the  meta data associated with this file.\n",
    "print(raster.meta)"
   ]
  },
  {
   "cell_type": "markdown",
   "metadata": {},
   "source": [
    "Data visualization units."
   ]
  },
  {
   "cell_type": "code",
   "execution_count": 45,
   "metadata": {},
   "outputs": [
    {
     "name": "stdout",
     "output_type": "stream",
     "text": [
      "BoundingBox(left=14.067394999999973, bottom=37.56717899999764, right=14.748098999999971, top=38.19258699999797)\n"
     ]
    }
   ],
   "source": [
    "# Data visualization units.\n",
    "#unit = '[ K ]'\n",
    "unit = '[ °C ]'\n",
    "\n",
    "long_name = 'Sentinel-3 Land Surface Temperature'\n",
    "\n",
    "# We need to know the geographical extent of the data, this is contained in the raster object.\n",
    "\n",
    "bbox = raster.bounds\n",
    "extent=[bbox[0],bbox[2],bbox[1],bbox[3]]\n",
    "#extent=[35.7, 36.1, 14.1, 14.6]\n",
    "print (bbox)"
   ]
  },
  {
   "cell_type": "code",
   "execution_count": 46,
   "metadata": {},
   "outputs": [
    {
     "name": "stdout",
     "output_type": "stream",
     "text": [
      "Rescaled size:  (64, 64)\n"
     ]
    }
   ],
   "source": [
    "upscale_factor = 1\n",
    "\n",
    "# resample data to target shape\n",
    "data = raster.read(\n",
    "out_shape=(\n",
    "    raster.count,\n",
    "    int(raster.height * upscale_factor),\n",
    "    int(raster.width * upscale_factor)\n",
    "        ),\n",
    "        resampling=Resampling.bilinear\n",
    "    )\n",
    "\n",
    "    # scale image transform\n",
    "transform = raster.transform * raster.transform.scale(\n",
    "(raster.width / data.shape[-1]),\n",
    "(raster.height / data.shape[-2]))\n",
    "\n",
    "print('Rescaled size: ',np.shape(data[0,:,:]))"
   ]
  },
  {
   "cell_type": "code",
   "execution_count": 47,
   "metadata": {},
   "outputs": [
    {
     "data": {
      "image/png": "[encoded data removed]",
      "text/plain": [
       "<Figure size 1080x864 with 2 Axes>"
      ]
     },
     "metadata": {
      "needs_background": "light"
     },
     "output_type": "display_data"
    }
   ],
   "source": [
    "# Here we set up the parameters needed to display the geographical data correctly.\n",
    "fig=plt.figure(figsize=(15, 12))\n",
    "\n",
    "# Here we set up a simple Plate Carree geographical projection. This is handled by the Cartopy library.\n",
    "#proj = ccrs.epsg(3857)\n",
    "#ax = plt.axes(projection=proj)\n",
    "ax = plt.axes(projection=ccrs.PlateCarree())\n",
    "\n",
    "# The coastline data get downloaded here, there may be a delay the first time you run this notebook.\n",
    "\n",
    "#ax.coastlines(resolution='10m')\n",
    "ax.gridlines()\n",
    "ax.set_title(long_name, fontsize=20, pad=20.0, fontweight = 'bold')\n",
    "\n",
    "# Here we set the colour map for matplotlib. e.g. 'flag', 'prism', 'ocean', 'gist_earth', 'terrain', 'gist_stern', 'jet', also\n",
    "# selecting which colour to associate with the NODATA value in the map\n",
    "\n",
    "color = cm.jet\n",
    "\n",
    "color.set_bad('white')\n",
    "\n",
    "#The pixel associated to the NODATA values are masked out.\n",
    "\n",
    "data = data.astype(np.float16)\n",
    "data[data == -32768.0] = np.nan\n",
    "\n",
    "# As the product contains the data in Digital Numbers (DN), it is necessary to calibrate them with the SCALE FACTOR and OFFSET values.\n",
    "# These can be retrieved from the extended metadata of the file. \n",
    "\n",
    "scale_factor = 0.0020000001\n",
    "\n",
    "offset = 290\n",
    "\n",
    "cal_data = scale_factor * data - 273 + offset\n",
    "\n",
    "img = plt.imshow(cal_data[0,:,:], cmap = color,extent = extent,transform=ccrs.PlateCarree())\n",
    "\n",
    "cbar = fig.colorbar(img, ax=ax, orientation='horizontal', fraction=0.04, pad=0.05)\n",
    "cbar.set_label(unit, fontsize=16, fontweight = 'bold')\n",
    "cbar.ax.tick_params(labelsize=14)\n",
    "plt.savefig('lst_cropped_snap.png')\n",
    "plt.show()"
   ]
  }
 ],
 "metadata": {
  "interpreter": {
   "hash": "9e9ba7665b06092894b9f43a817e1c81059b3bdeb345738b866505d682b47b54"
  },
  "kernelspec": {
   "display_name": "Python 3.6.15 ('snap')",
   "language": "python",
   "name": "python3"
  },
  "language_info": {
   "codemirror_mode": {
    "name": "ipython",
    "version": 3
   },
   "file_extension": ".py",
   "mimetype": "text/x-python",
   "name": "python",
   "nbconvert_exporter": "python",
   "pygments_lexer": "ipython3",
   "version": "3.6.15"
  },
  "orig_nbformat": 4
 },
 "nbformat": 4,
 "nbformat_minor": 2
}
