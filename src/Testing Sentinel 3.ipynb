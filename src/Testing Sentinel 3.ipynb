{
 "cells": [
  {
   "cell_type": "markdown",
   "metadata": {
    "collapsed": true,
    "pycharm": {
     "name": "#%% md\n"
    }
   },
   "source": [
    "---\n",
    "# Traverse Directory & process all datasets\n",
    "\n",
    "---"
   ]
  },
  {
   "cell_type": "code",
   "execution_count": 1,
   "metadata": {
    "collapsed": false,
    "pycharm": {
     "name": "#%%\n"
    }
   },
   "outputs": [],
   "source": [
    "import os\n",
    "from pathlib import Path\n",
    "from netCDF4 import Dataset\n",
    "import numpy as np\n",
    "\n",
    "#init\n",
    "base_directory = ('C:/Sentinel 3 Data/')\n",
    "k=0\n",
    "\n",
    "path = Path(base_directory)\n",
    "\n",
    "for root, dirs, files in os.walk(base_directory):\n",
    "    path = root.split(os.sep)\n",
    "    #print((len(path) - 1) * '---', os.path.basename(root))\n",
    "    basename = os.path.basename(root)\n",
    "    abspath = os.path.abspath(root)\n",
    "    #print(basename)\n",
    "    #print(abspath)\n",
    "\n",
    "    #Folders ending with .SEN3 contain Sent3 Data\n",
    "    if basename.endswith('.SEN3'):\n",
    "        k+=1\n",
    "        #print(k)\n",
    "\n",
    "        #creating filepath names\n",
    "        climate_filepath = (abspath + \"/LST_in.nc\")\n",
    "        cart_filepath = (abspath + \"/geodetic_in.nc\")\n",
    "\n",
    "        #Read Files\n",
    "        nc = Dataset(climate_filepath, \"r\", format=\"NETCDF4\")\n",
    "        cord = Dataset(cart_filepath, \"r\", format=\"NETCDF4\")\n",
    "\n",
    "        #Extract values from files\n",
    "        lat = np.array(cord.variables[\"latitude_in\"])\n",
    "        lon = np.array(cord.variables[\"longitude_in\"])\n",
    "        LST = np.array(nc.variables[\"LST\"])\n",
    "\n",
    "        #Create Dataframe from values\n",
    "        df = pd.DataFrame({'Lat':lat[0], 'Lon':lon[0], 'LST':LST[0]})\n",
    "        df.reset_index"
   ]
  },
  {
   "cell_type": "markdown",
   "metadata": {
    "collapsed": false,
    "pycharm": {
     "name": "#%% md\n"
    }
   },
   "source": [
    "---\n",
    "# Testing A single dataset\n",
    "---"
   ]
  },
  {
   "cell_type": "code",
   "execution_count": 29,
   "metadata": {
    "collapsed": false,
    "pycharm": {
     "name": "#%%\n"
    }
   },
   "outputs": [
    {
     "name": "stdout",
     "output_type": "stream",
     "text": [
      "dict_keys(['LST', 'LST_orphan', 'LST_uncertainty', 'LST_uncertainty_orphan', 'exception', 'exception_orphan'])\n",
      "(1200, 1500)\n",
      "[[-32768. -32768. -32768. ... -32768. -32768. -32768.]\n",
      " [-32768. -32768. -32768. ... -32768. -32768. -32768.]\n",
      " [-32768. -32768. -32768. ... -32768. -32768. -32768.]\n",
      " ...\n",
      " [-32768. -32768. -32768. ... -32768. -32768. -32768.]\n",
      " [-32768. -32768. -32768. ... -32768. -32768. -32768.]\n",
      " [-32768. -32768. -32768. ... -32768. -32768. -32768.]]\n"
     ]
    }
   ],
   "source": [
    "#https://www.earthinversion.com/utilities/reading-NetCDF4-data-in-python/\n",
    "from netCDF4 import Dataset\n",
    "import numpy as np\n",
    "import pandas as pd\n",
    "import dplython\n",
    "\n",
    "path = 'C:/Users/Massimo/Documents/SchoolFolder/ThirdYear/Thesis/SentinelData/2021/extra/' \\\n",
    "       'S3B_SL_2_LST____20210616T094035_20210616T094335_20210617T190722_0179_053_307_2340_LN2_O_NT_004.SEN3'\n",
    "\n",
    "#creating filepath names\n",
    "climate_filepath = (path + \"/LST_in.nc\")\n",
    "cart_filepath = (path + \"/geodetic_in.nc\")\n",
    "\n",
    "#Read Files\n",
    "nc = Dataset(climate_filepath, \"r\", format=\"NETCDF4\") #dataset == nc_open()\n",
    "cord = Dataset(cart_filepath, \"r\", format=\"NETCDF4\")\n",
    "#print(nc)#dataset information\n",
    "print(nc.variables.keys())# get all variable names\n",
    "#temp = nc.variables['LST'] # individually access each variable\n",
    "#print(temp)\n",
    "#print(temp.dimensions)\n",
    "#print(temp.shape)\n",
    "\n",
    "#for d in nc.dimensions.items():#dimension size\n",
    "#  print(d)\n",
    "\n",
    "#lst = nc.variables[\"LST\"]\n",
    "#print(lst)\n",
    "#l = lst[:]\n",
    "#print(l)\n",
    "\n",
    "lat = np.array(cord.variables[\"latitude_in\"])\n",
    "#print(' \\n LAT:\\n '+ str(lat))#np.array == as.vector(), var.variables == ncvar_get()\n",
    "lon = np.array(cord.variables[\"longitude_in\"])\n",
    "LST = np.array(nc.variables[\"LST\"])\n",
    "\n",
    "#print(lat)\n",
    "#print(lon)\n",
    "print(LST[:])\n",
    "#########\n"
   ]
  },
  {
   "cell_type": "code",
   "execution_count": 26,
   "metadata": {},
   "outputs": [
    {
     "data": {
      "text/plain": [
       "1500"
      ]
     },
     "execution_count": 26,
     "metadata": {},
     "output_type": "execute_result"
    }
   ],
   "source": [
    "#for l in lat:\n",
    "#    print(len(l))\n"
   ]
  },
  {
   "cell_type": "code",
   "execution_count": 5,
   "metadata": {},
   "outputs": [
    {
     "name": "stdout",
     "output_type": "stream",
     "text": [
      "            Lat        Lon      LST\n",
      "0     41.998781   0.564993 -32768.0\n",
      "1     41.997752   0.576984 -32768.0\n",
      "2     41.996722   0.588974 -32768.0\n",
      "3     41.995693   0.600965 -32768.0\n",
      "4     41.994663   0.612956 -32768.0\n",
      "...         ...        ...      ...\n",
      "1495  39.121308  17.842920 -32768.0\n",
      "1496  39.118537  17.853920 -32768.0\n",
      "1497  39.115765  17.864920 -32768.0\n",
      "1498  39.112994  17.875919 -32768.0\n",
      "1499  39.110223  17.886919 -32768.0\n",
      "\n",
      "[1500 rows x 3 columns]\n"
     ]
    }
   ],
   "source": [
    "##data.frame()\n",
    "#https://www.geeksforgeeks.org/make-a-pandas-dataframe-with-two-dimensional-list-python/#\n",
    "#df_list = [['lat',lat],['lon', lon],['LST', LST]]\n",
    "#df_list = [lat,lon,LST]\n",
    "#print(df_list)\n",
    "#########\n",
    "\n",
    "#d = {'Lat':lat, 'Lon':lon, 'LST':LST}\n",
    "df = pd.DataFrame({'Lat':lat[0], 'Lon':lon[0], 'LST':LST[0]})\n",
    "df.reset_index\n",
    "#df = pd.DataFrame(data=d, index=['Lat'])\n",
    "#https://stackoverflow.com/questions/17839973/constructing-pandas-dataframe-from-values-in-variables-gives-valueerror-if-usi\n",
    "print(df)\n",
    "#https://pandas.pydata.org/docs/reference/api/pandas.DataFrame.html\n"
   ]
  },
  {
   "cell_type": "code",
   "execution_count": 11,
   "metadata": {},
   "outputs": [
    {
     "name": "stdout",
     "output_type": "stream",
     "text": [
      "Empty DataFrame\n",
      "Columns: [Lat, Lon, LST]\n",
      "Index: []\n"
     ]
    }
   ],
   "source": [
    "maltese_filter = df[(df['Lat'] >= 35.7) & (df['Lat'] <=36.1) & (df['Lon'] >= 14.1) & (df['Lon']<=14.6) ]\n",
    "#lat >= 35.7 & lat <=36.1 & lon >= 14.1 & lon <=14.6\n",
    "maltese_filter.reset_index\n",
    "print(maltese_filter)\n",
    "#https://gist.github.com/conormm/fd8b1980c28dd21cfaf6975c86c74d07#"
   ]
  },
  {
   "cell_type": "code",
   "execution_count": 12,
   "metadata": {},
   "outputs": [
    {
     "name": "stdout",
     "output_type": "stream",
     "text": [
      "            Lat        Lon      LST\n",
      "0     41.998781   0.564993 -32768.0\n",
      "1     41.997752   0.576984 -32768.0\n",
      "2     41.996722   0.588974 -32768.0\n",
      "3     41.995693   0.600965 -32768.0\n",
      "4     41.994663   0.612956 -32768.0\n",
      "...         ...        ...      ...\n",
      "1495  39.121308  17.842920 -32768.0\n",
      "1496  39.118537  17.853920 -32768.0\n",
      "1497  39.115765  17.864920 -32768.0\n",
      "1498  39.112994  17.875919 -32768.0\n",
      "1499  39.110223  17.886919 -32768.0\n",
      "\n",
      "[1500 rows x 3 columns]\n"
     ]
    }
   ],
   "source": [
    "df = df.dropna()\n",
    "print(df)"
   ]
  },
  {
   "cell_type": "code",
   "execution_count": null,
   "metadata": {},
   "outputs": [],
   "source": [
    "#LST_DF = pd.DataFrame(df_list)\n",
    "#LST_DF = pd.DataFrame(df_list, columns=['lat','lon','LST'])\n",
    "#LST_DF = pd.DataFrame({\"lat\": lat, \"lon\": lon, \"LST\": LST}, index=)\n",
    "#print(LST_DF)\n",
    "\n",
    "#data = {'lat':[lat], 'lon':[lon], 'LST':[LST]}\n",
    "#data = {'lat':lat, 'lon':lon, 'LST':LST}#same as above\n",
    "#data = {'lat': pd.Series(lat), 'lon': pd.Series(lon), 'LST': pd.Series(LST)}\n",
    "#print(data)\n",
    "#LST_DF = pd.DataFrame(data, index=lon)\n",
    "\n",
    "#print(LST_DF.loc[LST_DF[0] == \"lon\"])\n",
    "\n",
    "#https://gist.github.com/conormm/fd8b1980c28dd21cfaf6975c86c74d07#\n",
    "#maltese_filter = LST_DF[(LST_DF[\"lat\"] >= 35.7) & (LST_DF[\"lon\"] >= 14.1) & (LST_DF[\"lon\"] <= 14.6)]\n",
    "#maltese_filter = LST_DF[(LST_DF.loc[LST_DF[0] == \"lat\"] >= 35.7)&(LST_DF.loc[LST_DF[0] == \"lon\"] >= 14.1)&(LST_DF.loc[LST_DF[0] == \"lon\"]<=14.6)]\n",
    "#print(maltese_filter)\n",
    "\n",
    "'''\n",
    "f <- rep(1/9, 9)\n",
    "smth_x <- filter(x, f, sides=2)\n",
    "\n",
    "import numpy, scipy.signal\n",
    "taps = numpy.repeat(1.0/9, 9)\n",
    "smoothed_x = scipy.signal.lfilter(taps, 1.0, x)'''\n"
   ]
  },
  {
   "cell_type": "markdown",
   "metadata": {},
   "source": [
    "# Testing w/ GDAL"
   ]
  },
  {
   "cell_type": "code",
   "execution_count": 60,
   "metadata": {},
   "outputs": [
    {
     "ename": "SyntaxError",
     "evalue": "invalid syntax (Temp/ipykernel_3944/3344981330.py, line 4)",
     "output_type": "error",
     "traceback": [
      "\u001b[1;36m  File \u001b[1;32m\"C:\\Users\\Massimo\\AppData\\Local\\Temp/ipykernel_3944/3344981330.py\"\u001b[1;36m, line \u001b[1;32m4\u001b[0m\n\u001b[1;33m    gdal_translate -of XYZ NETCDF:\"S4_radiance_an.nc\":S4_radiance_an S4_radiance.csv\u001b[0m\n\u001b[1;37m                       ^\u001b[0m\n\u001b[1;31mSyntaxError\u001b[0m\u001b[1;31m:\u001b[0m invalid syntax\n"
     ]
    }
   ],
   "source": [
    "from osgeo import gdal\n",
    "#https://gis.stackexchange.com/questions/395666/georeferencing-sentinel-3-lst-product\n",
    "\n",
    "gdal_translate -of XYZ NETCDF:\"S4_radiance_an.nc\":S4_radiance_an S4_radiance.csv\n",
    "gdal_translate -of XYZ NETCDF:\"geodetic_an.nc\":latitude_an latitude.csv\n",
    "gdal_translate -of XYZ NETCDF:\"geodetic_an.nc\":longitude_an longitude.csv\n",
    "\n",
    "echo X,Y,Z >merged.csv\n",
    "paste longitude.csv latitude.csv S4_radiance.csv|gawk 'BEGIN{OFS=\",\"}{print($3/1000000,$6/1000000,$9)}' >>merged.csv\n",
    "ogr2ogr -a_srs \"EPSG:4326\"  -mapFieldType All=Integer -oo X_POSSIBLE_NAMES=X* -oo Y_POSSIBLE_NAMES=Y* -oo KEEP_GEOM_COLUMNS=NO newS4_radiance.shp merged.csv"
   ]
  },
  {
   "cell_type": "markdown",
   "metadata": {
    "collapsed": false,
    "pycharm": {
     "name": "#%% md\n"
    }
   },
   "source": [
    "---\n",
    "# Testing w/ CSV\n",
    "\n",
    "---"
   ]
  },
  {
   "cell_type": "code",
   "execution_count": 4,
   "metadata": {
    "collapsed": false,
    "pycharm": {
     "name": "#%%\n"
    }
   },
   "outputs": [
    {
     "name": "stdout",
     "output_type": "stream",
     "text": [
      "Index(['Date', 'Satellite', 'Sensor', 'Time', 'File Name'], dtype='object')\n",
      "0     2017/03/01\n",
      "1     2017/03/12\n",
      "2     2017/03/20\n",
      "3     2017/03/24\n",
      "4     2017/03/29\n",
      "         ...    \n",
      "63    2021/05/07\n",
      "64    2021/05/25\n",
      "65    2021/05/30\n",
      "66    2021/05/09\n",
      "67    2021/05/17\n",
      "Name: Date, Length: 68, dtype: object\n"
     ]
    }
   ],
   "source": [
    "import pandas as pd\n",
    "\n",
    "\n",
    "local_git_path = 'C:/Users/Massimo/Documents/SchoolFolder/ThirdYear/Thesis/MassThesis/doc'\n",
    "data_csv = '/data_downloaded.csv'\n",
    "\n",
    "path = local_git_path + data_csv\n",
    "\n",
    "data= pd.read_csv(path)\n",
    "#print(data)\n",
    "\n",
    "print(data.columns)\n",
    "print(data.Date)\n"
   ]
  }
 ],
 "metadata": {
  "interpreter": {
   "hash": "2b18dcc231951c4f8bffc722247cad34ced2089fa5da5fb3b4f015d78b51b387"
  },
  "kernelspec": {
   "display_name": "PyCharm (ThesisProject)",
   "language": "python",
   "name": "python3"
  },
  "language_info": {
   "codemirror_mode": {
    "name": "ipython",
    "version": 3
   },
   "file_extension": ".py",
   "mimetype": "text/x-python",
   "name": "python",
   "nbconvert_exporter": "python",
   "pygments_lexer": "ipython3",
   "version": "3.9.7"
  }
 },
 "nbformat": 4,
 "nbformat_minor": 0
}
