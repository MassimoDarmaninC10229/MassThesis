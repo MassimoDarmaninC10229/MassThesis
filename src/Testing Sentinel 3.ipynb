{
 "cells": [
  {
   "cell_type": "markdown",
   "metadata": {
    "collapsed": true,
    "pycharm": {
     "name": "#%% md\n"
    }
   },
   "source": [
    "---\n",
    "# Traverse Directory & process all datasets\n",
    "\n",
    "---"
   ]
  },
  {
   "cell_type": "code",
   "execution_count": 100,
   "outputs": [],
   "source": [
    "import os\n",
    "from pathlib import Path\n",
    "from netCDF4 import Dataset\n",
    "import numpy as np\n",
    "\n",
    "#init\n",
    "base_directory = ('C:/Sentinel 3 Data/')\n",
    "k=0\n",
    "\n",
    "path = Path(base_directory)\n",
    "\n",
    "for root, dirs, files in os.walk(base_directory):\n",
    "    path = root.split(os.sep)\n",
    "    #print((len(path) - 1) * '---', os.path.basename(root))\n",
    "    basename = os.path.basename(root)\n",
    "    abspath = os.path.abspath(root)\n",
    "    #print(basename)\n",
    "    #print(abspath)\n",
    "\n",
    "    #Folders ending with .SEN3 contain Sent3 Data\n",
    "    if basename.endswith('.SEN3'):\n",
    "        k+=1\n",
    "        #print(k)\n",
    "\n",
    "        #creating filepath names\n",
    "        climate_filepath = (abspath + \"/LST_in.nc\")\n",
    "        cart_filepath = (abspath + \"/geodetic_in.nc\")\n",
    "\n",
    "        #Read Files\n",
    "        nc = Dataset(climate_filepath, \"r\", format=\"NETCDF4\")\n",
    "        cord = Dataset(cart_filepath, \"r\", format=\"NETCDF4\")\n",
    "\n",
    "        #Extract values from files\n",
    "        lat = np.array(cord.variables[\"latitude_in\"])\n",
    "        lon = np.array(cord.variables[\"longitude_in\"])\n",
    "        LST = np.array(nc.variables[\"LST\"])"
   ],
   "metadata": {
    "collapsed": false,
    "pycharm": {
     "name": "#%%\n"
    }
   }
  },
  {
   "cell_type": "markdown",
   "source": [
    "---\n",
    "# Testing A single dataset\n",
    "---"
   ],
   "metadata": {
    "collapsed": false,
    "pycharm": {
     "name": "#%% md\n"
    }
   }
  },
  {
   "cell_type": "code",
   "execution_count": 116,
   "outputs": [
    {
     "name": "stdout",
     "output_type": "stream",
     "text": [
      "     0                                                  1\n",
      "0  lat  [[33.53546, 33.534237, 33.533013, 33.53179, 33...\n",
      "1  lon  [[27.303069999999998, 27.292403, 27.281737, 27...\n",
      "2  LST  [[-32768.0, -32768.0, -32768.0, -32768.0, -327...\n"
     ]
    }
   ],
   "source": [
    "from netCDF4 import Dataset\n",
    "import numpy as np\n",
    "import pandas as pd\n",
    "import dplython\n",
    "\n",
    "path = 'C:/Sentinel 3 Data/2019/covid/May/S3B_SL_2_LST____20190523T203100_20190523T203400_20200820T063333_0179_025_328_0' \\\n",
    "       '540_LR1_R_NT_004/S3B_SL_2_LST____20190523T203100_20190523T203400_20200820T063333_0179_025_328_0540_LR1_R_NT_004.SEN3'\n",
    "\n",
    "#creating filepath names\n",
    "climate_filepath = (path + \"/LST_in.nc\")\n",
    "cart_filepath = (path + \"/geodetic_in.nc\")\n",
    "\n",
    "#Read Files\n",
    "nc = Dataset(climate_filepath, \"r\", format=\"NETCDF4\") #dataset == nc_open()\n",
    "#print(nc)\n",
    "cord = Dataset(cart_filepath, \"r\", format=\"NETCDF4\")\n",
    "#print(cord.variables[\"latitude_in\"])\n",
    "#print(cord['latitude_in'])\n",
    "\n",
    "lat = np.array(cord.variables[\"latitude_in\"])\n",
    "#print(' \\n LAT:\\n '+ str(lat))#np.array == as.vector(), var.variables == ncvar_get()\n",
    "lon = np.array(cord.variables[\"longitude_in\"])\n",
    "LST = np.array(nc.variables[\"LST\"])\n",
    "#print(lat)\n",
    "#print(lon)\n",
    "#print(LST)\n",
    "\n",
    "'''lat_dt = pd.DataFrame(lat)\n",
    "lon_dt = pd.DataFrame(lon)\n",
    "LST_dt = pd.DataFrame(LST)'''\n",
    "\n",
    "#data = {'lat':lat, 'lon':lon, 'LST':LST}\n",
    "#LST_DF = pd.DataFrame(data, index=[0])\n",
    "#LST_DF = pd.DataFrame({\"lat\":lat,\"lon\":lon, \"LST\": LST}, index=[0])\n",
    "\n",
    "##data.frame()\n",
    "#https://www.geeksforgeeks.org/make-a-pandas-dataframe-with-two-dimensional-list-python/#\n",
    "df_list = [['lat',lat],['lon', lon],['LST', LST]]\n",
    "#df_list = [lat,lon,LST]\n",
    "LST_DF = pd.DataFrame(df_list)\n",
    "#LST_DF = pd.DataFrame(df_list, columns=['lat','lon'])\n",
    "print(LST_DF)\n",
    "\n",
    "#https://gist.github.com/conormm/fd8b1980c28dd21cfaf6975c86c74d07#\n",
    "#maltese_filter = LST_DF[(LST_DF['lat'] >= 35.7) & (LST_DF['lon'] >= 14.1) & (LST_DF['lon'] <= 14.6)]\n",
    "#print(maltese_filter)"
   ],
   "metadata": {
    "collapsed": false,
    "pycharm": {
     "name": "#%%\n"
    }
   }
  },
  {
   "cell_type": "markdown",
   "source": [
    "---\n",
    "# Testing w/ CSV\n",
    "\n",
    "---"
   ],
   "metadata": {
    "collapsed": false,
    "pycharm": {
     "name": "#%% md\n"
    }
   }
  },
  {
   "cell_type": "code",
   "execution_count": 102,
   "outputs": [
    {
     "name": "stdout",
     "output_type": "stream",
     "text": [
      "Index(['Date', 'Satellite', 'Sensor', 'Time', 'File Name'], dtype='object')\n",
      "0     2017/03/01\n",
      "1     2017/03/12\n",
      "2     2017/03/20\n",
      "3     2017/03/24\n",
      "4     2017/03/29\n",
      "         ...    \n",
      "63    2021/05/07\n",
      "64    2021/05/25\n",
      "65    2021/05/30\n",
      "66    2021/05/09\n",
      "67    2021/05/17\n",
      "Name: Date, Length: 68, dtype: object\n"
     ]
    }
   ],
   "source": [
    "import pandas as pd\n",
    "\n",
    "\n",
    "local_git_path = 'C:/Users/Thesis/Documents/GitRep/MassThesis/doc'\n",
    "data_csv = '/data_downloaded.csv'\n",
    "\n",
    "path = local_git_path + data_csv\n",
    "\n",
    "data= pd.read_csv(path)\n",
    "#print(data)\n",
    "\n",
    "print(data.columns)\n",
    "print(data.Date)\n"
   ],
   "metadata": {
    "collapsed": false,
    "pycharm": {
     "name": "#%%\n"
    }
   }
  }
 ],
 "metadata": {
  "kernelspec": {
   "name": "pycharm-2a7fdb0",
   "language": "python",
   "display_name": "PyCharm (ThesisProject)"
  },
  "language_info": {
   "codemirror_mode": {
    "name": "ipython",
    "version": 2
   },
   "file_extension": ".py",
   "mimetype": "text/x-python",
   "name": "python",
   "nbconvert_exporter": "python",
   "pygments_lexer": "ipython2",
   "version": "2.7.6"
  }
 },
 "nbformat": 4,
 "nbformat_minor": 0
}