{
 "cells": [
  {
   "cell_type": "markdown",
   "metadata": {},
   "source": [
    "init"
   ]
  },
  {
   "cell_type": "code",
   "execution_count": 2,
   "metadata": {},
   "outputs": [],
   "source": [
    "import pyepsg\n",
    "import snappy\n",
    "from snappy import HashMap\n",
    "import gc   \n",
    "from snappy import GPF\n",
    "jpy = snappy.jpy\n",
    "from snappy import ProductIO, File\n",
    "import matplotlib.pyplot as plt\n",
    "import matplotlib.cm as cm\n",
    "import cartopy.crs as ccrs\n",
    "import numpy as np\n",
    "import rasterio\n",
    "from rasterio.windows import Window\n",
    "from rasterio.plot import show\n",
    "from rasterio.enums import Resampling"
   ]
  },
  {
   "cell_type": "code",
   "execution_count": 43,
   "metadata": {},
   "outputs": [],
   "source": [
    "#file type\n",
    "File = jpy.get_type('java.io.File')"
   ]
  },
  {
   "cell_type": "markdown",
   "metadata": {},
   "source": [
    "Reading Product"
   ]
  },
  {
   "cell_type": "code",
   "execution_count": 44,
   "metadata": {},
   "outputs": [],
   "source": [
    "#archi=File('C:/Users/Massimo/Documents/SchoolFolder/ThirdYear/Thesis/SentinelData/2021/extra/S3B_SL_2_LST____20210616T094035_20210616T094335_20210617T190722_0179_053_307_2340_LN2_O_NT_004.SEN3')\n",
    "archi=File('S3A_SL_2_LST____20210530T203702SEN3_reprojected.nc')\n",
    "product = ProductIO.readProduct(archi)\n",
    "reader = snappy.ProductIO.getProductReader('SEN3')"
   ]
  },
  {
   "cell_type": "code",
   "execution_count": null,
   "metadata": {},
   "outputs": [],
   "source": [
    "#listing all bands\n",
    "list(product.getBandNames())"
   ]
  },
  {
   "cell_type": "code",
   "execution_count": 15,
   "metadata": {},
   "outputs": [
    {
     "name": "stdout",
     "output_type": "stream",
     "text": [
      "org.esa.snap.core.datamodel.Band[LST,float32,1760,1201,-1,0.0,0.0,0.0]\n"
     ]
    }
   ],
   "source": [
    "print(product.getBand('LST'))"
   ]
  },
  {
   "cell_type": "code",
   "execution_count": 46,
   "metadata": {},
   "outputs": [],
   "source": [
    "band = product.getBand('LST') # Assign Band to a variable\n",
    "w = product.getSceneRasterWidth() # Get Band Width\n",
    "h = product.getSceneRasterHeight() # Get Band Height"
   ]
  },
  {
   "cell_type": "markdown",
   "metadata": {},
   "source": [
    "Creating image from product for reference"
   ]
  },
  {
   "cell_type": "code",
   "execution_count": 47,
   "metadata": {},
   "outputs": [
    {
     "data": {
      "text/plain": [
       "<Figure size 1296x720 with 0 Axes>"
      ]
     },
     "execution_count": 47,
     "metadata": {},
     "output_type": "execute_result"
    },
    {
     "data": {
      "text/plain": [
       "<Figure size 1296x720 with 0 Axes>"
      ]
     },
     "metadata": {},
     "output_type": "display_data"
    }
   ],
   "source": [
    "# Create an empty array\n",
    "band_data = np.zeros(w * h, np.float32)\n",
    "# Populate array with pixel value\n",
    "band.readPixels(0, 0, w, h, band_data) \n",
    "# Reshape\n",
    "band_data.shape = h, w\n",
    "# Plot the band  \n",
    "plt.figure(figsize=(18,10))"
   ]
  },
  {
   "cell_type": "code",
   "execution_count": 48,
   "metadata": {},
   "outputs": [
    {
     "data": {
      "image/png": "[encoded data removed]",
      "text/plain": [
       "<Figure size 432x288 with 3 Axes>"
      ]
     },
     "metadata": {
      "needs_background": "light"
     },
     "output_type": "display_data"
    }
   ],
   "source": [
    "##Heatmap colours\n",
    "color = cm.jet\n",
    "color.set_bad('white')\n",
    "#plt.imshow(band_data, cmap = color)\n",
    "\n",
    "#plt.show()\n",
    "\n",
    "plt.subplot(131)\n",
    "plt.imshow(band_data, cmap='gray'), plt.title('Grey')\n",
    "plt.axis('off')\n",
    "plt.subplot(132)\n",
    "plt.imshow(band_data, cmap = plt.cm.binary), plt.title('Binary')\n",
    "plt.axis('off')\n",
    "plt.subplot(133)\n",
    "plt.imshow(band_data, cmap = color), plt.title('color')\n",
    "plt.axis('off')\n",
    "plt.show()"
   ]
  },
  {
   "cell_type": "code",
   "execution_count": 42,
   "metadata": {},
   "outputs": [
    {
     "ename": "TypeError",
     "evalue": "invalid path or file: array([0., 0., 0., ..., 0., 0., 0.], dtype=float32)",
     "output_type": "error",
     "traceback": [
      "\u001b[1;31m---------------------------------------------------------------------------\u001b[0m",
      "\u001b[1;31mTypeError\u001b[0m                                 Traceback (most recent call last)",
      "\u001b[1;32m<ipython-input-42-6ebddff73e13>\u001b[0m in \u001b[0;36m<module>\u001b[1;34m\u001b[0m\n\u001b[0;32m     14\u001b[0m     \u001b[0mshapes\u001b[0m \u001b[1;33m=\u001b[0m \u001b[1;33m[\u001b[0m\u001b[0mfeature\u001b[0m\u001b[1;33m[\u001b[0m\u001b[1;34m\"geometry\"\u001b[0m\u001b[1;33m]\u001b[0m \u001b[1;32mfor\u001b[0m \u001b[0mfeature\u001b[0m \u001b[1;32min\u001b[0m \u001b[0mshapefile\u001b[0m\u001b[1;33m]\u001b[0m\u001b[1;33m\u001b[0m\u001b[1;33m\u001b[0m\u001b[0m\n\u001b[0;32m     15\u001b[0m \u001b[1;33m\u001b[0m\u001b[0m\n\u001b[1;32m---> 16\u001b[1;33m \u001b[1;32mwith\u001b[0m \u001b[0mrasterio\u001b[0m\u001b[1;33m.\u001b[0m\u001b[0mopen\u001b[0m\u001b[1;33m(\u001b[0m\u001b[0mband_data\u001b[0m\u001b[1;33m)\u001b[0m \u001b[1;32mas\u001b[0m \u001b[0msrc\u001b[0m\u001b[1;33m:\u001b[0m\u001b[1;33m\u001b[0m\u001b[1;33m\u001b[0m\u001b[0m\n\u001b[0m\u001b[0;32m     17\u001b[0m     \u001b[0mout_image\u001b[0m\u001b[1;33m,\u001b[0m \u001b[0mout_transform\u001b[0m \u001b[1;33m=\u001b[0m \u001b[0mrasterio\u001b[0m\u001b[1;33m.\u001b[0m\u001b[0mmask\u001b[0m\u001b[1;33m.\u001b[0m\u001b[0mmask\u001b[0m\u001b[1;33m(\u001b[0m\u001b[0msrc\u001b[0m\u001b[1;33m,\u001b[0m \u001b[0mshapes\u001b[0m\u001b[1;33m,\u001b[0m \u001b[0mcrop\u001b[0m\u001b[1;33m=\u001b[0m\u001b[1;32mTrue\u001b[0m\u001b[1;33m)\u001b[0m\u001b[1;33m\u001b[0m\u001b[1;33m\u001b[0m\u001b[0m\n\u001b[0;32m     18\u001b[0m     \u001b[0mout_meta\u001b[0m \u001b[1;33m=\u001b[0m \u001b[0msrc\u001b[0m\u001b[1;33m.\u001b[0m\u001b[0mmeta\u001b[0m\u001b[1;33m\u001b[0m\u001b[1;33m\u001b[0m\u001b[0m\n",
      "\u001b[1;32m~\\anaconda3\\envs\\snap\\lib\\site-packages\\rasterio\\env.py\u001b[0m in \u001b[0;36mwrapper\u001b[1;34m(*args, **kwds)\u001b[0m\n\u001b[0;32m    443\u001b[0m \u001b[1;33m\u001b[0m\u001b[0m\n\u001b[0;32m    444\u001b[0m         \u001b[1;32mwith\u001b[0m \u001b[0menv_ctor\u001b[0m\u001b[1;33m(\u001b[0m\u001b[0msession\u001b[0m\u001b[1;33m=\u001b[0m\u001b[0msession\u001b[0m\u001b[1;33m)\u001b[0m\u001b[1;33m:\u001b[0m\u001b[1;33m\u001b[0m\u001b[1;33m\u001b[0m\u001b[0m\n\u001b[1;32m--> 445\u001b[1;33m             \u001b[1;32mreturn\u001b[0m \u001b[0mf\u001b[0m\u001b[1;33m(\u001b[0m\u001b[1;33m*\u001b[0m\u001b[0margs\u001b[0m\u001b[1;33m,\u001b[0m \u001b[1;33m**\u001b[0m\u001b[0mkwds\u001b[0m\u001b[1;33m)\u001b[0m\u001b[1;33m\u001b[0m\u001b[1;33m\u001b[0m\u001b[0m\n\u001b[0m\u001b[0;32m    446\u001b[0m \u001b[1;33m\u001b[0m\u001b[0m\n\u001b[0;32m    447\u001b[0m     \u001b[1;32mreturn\u001b[0m \u001b[0mwrapper\u001b[0m\u001b[1;33m\u001b[0m\u001b[1;33m\u001b[0m\u001b[0m\n",
      "\u001b[1;32m~\\anaconda3\\envs\\snap\\lib\\site-packages\\rasterio\\__init__.py\u001b[0m in \u001b[0;36mopen\u001b[1;34m(fp, mode, driver, width, height, count, crs, transform, dtype, nodata, sharing, **kwargs)\u001b[0m\n\u001b[0;32m    154\u001b[0m     \u001b[1;32mif\u001b[0m \u001b[1;32mnot\u001b[0m \u001b[0misinstance\u001b[0m\u001b[1;33m(\u001b[0m\u001b[0mfp\u001b[0m\u001b[1;33m,\u001b[0m \u001b[0mstring_types\u001b[0m\u001b[1;33m)\u001b[0m\u001b[1;33m:\u001b[0m\u001b[1;33m\u001b[0m\u001b[1;33m\u001b[0m\u001b[0m\n\u001b[0;32m    155\u001b[0m         \u001b[1;32mif\u001b[0m \u001b[1;32mnot\u001b[0m \u001b[1;33m(\u001b[0m\u001b[0mhasattr\u001b[0m\u001b[1;33m(\u001b[0m\u001b[0mfp\u001b[0m\u001b[1;33m,\u001b[0m \u001b[1;34m'read'\u001b[0m\u001b[1;33m)\u001b[0m \u001b[1;32mor\u001b[0m \u001b[0mhasattr\u001b[0m\u001b[1;33m(\u001b[0m\u001b[0mfp\u001b[0m\u001b[1;33m,\u001b[0m \u001b[1;34m'write'\u001b[0m\u001b[1;33m)\u001b[0m \u001b[1;32mor\u001b[0m \u001b[0misinstance\u001b[0m\u001b[1;33m(\u001b[0m\u001b[0mfp\u001b[0m\u001b[1;33m,\u001b[0m \u001b[0mPath\u001b[0m\u001b[1;33m)\u001b[0m\u001b[1;33m)\u001b[0m\u001b[1;33m:\u001b[0m\u001b[1;33m\u001b[0m\u001b[1;33m\u001b[0m\u001b[0m\n\u001b[1;32m--> 156\u001b[1;33m             \u001b[1;32mraise\u001b[0m \u001b[0mTypeError\u001b[0m\u001b[1;33m(\u001b[0m\u001b[1;34m\"invalid path or file: {0!r}\"\u001b[0m\u001b[1;33m.\u001b[0m\u001b[0mformat\u001b[0m\u001b[1;33m(\u001b[0m\u001b[0mfp\u001b[0m\u001b[1;33m)\u001b[0m\u001b[1;33m)\u001b[0m\u001b[1;33m\u001b[0m\u001b[1;33m\u001b[0m\u001b[0m\n\u001b[0m\u001b[0;32m    157\u001b[0m     \u001b[1;32mif\u001b[0m \u001b[0mmode\u001b[0m \u001b[1;32mand\u001b[0m \u001b[1;32mnot\u001b[0m \u001b[0misinstance\u001b[0m\u001b[1;33m(\u001b[0m\u001b[0mmode\u001b[0m\u001b[1;33m,\u001b[0m \u001b[0mstring_types\u001b[0m\u001b[1;33m)\u001b[0m\u001b[1;33m:\u001b[0m\u001b[1;33m\u001b[0m\u001b[1;33m\u001b[0m\u001b[0m\n\u001b[0;32m    158\u001b[0m         \u001b[1;32mraise\u001b[0m \u001b[0mTypeError\u001b[0m\u001b[1;33m(\u001b[0m\u001b[1;34m\"invalid mode: {0!r}\"\u001b[0m\u001b[1;33m.\u001b[0m\u001b[0mformat\u001b[0m\u001b[1;33m(\u001b[0m\u001b[0mmode\u001b[0m\u001b[1;33m)\u001b[0m\u001b[1;33m)\u001b[0m\u001b[1;33m\u001b[0m\u001b[1;33m\u001b[0m\u001b[0m\n",
      "\u001b[1;31mTypeError\u001b[0m: invalid path or file: array([0., 0., 0., ..., 0., 0., 0.], dtype=float32)"
     ]
    }
   ],
   "source": [
    "import geopandas as gpd\n",
    "import numpy as np\n",
    "import rasterio as rio\n",
    "import rasterio.mask\n",
    "from skimage import exposure\n",
    "from rasterio import plot\n",
    "from rasterio.crs import CRS\n",
    "import matplotlib.pyplot as plt\n",
    "import fiona\n",
    "import rasterio\n",
    "import rasterio.mask\n",
    "\n",
    "with fiona.open(\"../Malta Shape File/MaltaShapeFile.shp\", \"r\") as shapefile:\n",
    "    shapes = [feature[\"geometry\"] for feature in shapefile]\n",
    "\n",
    "with rasterio.open(band_data) as src:\n",
    "    out_image, out_transform = rasterio.mask.mask(src, shapes, crop=True)\n",
    "    out_meta = src.meta\n",
    "    out_meta.update({\"driver\": \"GTiff\",\n",
    "                    \"height\": out_image.shape[1],\n",
    "                    \"width\": out_image.shape[2],\n",
    "                    \"transform\": out_transform,\n",
    "                    \"dtype\": \"float32\"})\n",
    "    with rasterio.open('cropped.tif', 'w', **out_meta) as dst:\n",
    "        # Read the data from the window and write it to the output raster\n",
    "        dst.write(out_image)"
   ]
  },
  {
   "cell_type": "markdown",
   "metadata": {},
   "source": [
    "Create geoTiff"
   ]
  },
  {
   "cell_type": "code",
   "execution_count": 51,
   "metadata": {},
   "outputs": [],
   "source": [
    "ProductIO.writeProduct(product, 'fulltestTiff', 'GeoTIFF-BigTIFF')"
   ]
  },
  {
   "cell_type": "markdown",
   "metadata": {},
   "source": [
    "Cropping geoTiff"
   ]
  },
  {
   "cell_type": "code",
   "execution_count": 9,
   "metadata": {},
   "outputs": [
    {
     "name": "stderr",
     "output_type": "stream",
     "text": [
      "WARNING:rasterio._env:CPLE_AppDefined in TIFFReadDirectory:Sum of Photometric type-related color channels and ExtraSamples doesn't match SamplesPerPixel. Defining non-color channels as ExtraSamples.\n"
     ]
    }
   ],
   "source": [
    "with rasterio.open('fulltestTiff.tif') as src:\n",
    "\n",
    "    # The size in pixels of your desired window\n",
    "    #xsize, ysize = 512, 512\n",
    "    xsize, ysize = 64, 64\n",
    "\n",
    "    # Generate a random window location that doesn't go outside the image\n",
    "    xmin, xmax = 0, src.width - xsize\n",
    "    ymin, ymax = 0, src.height - ysize\n",
    "    #xoff, yoff = random.randint(xmin, xmax), random.randint(ymin, ymax)\n",
    "    xoff, yoff = 1270, 390\n",
    "\n",
    "    # Create a Window and calculate the transform from the source dataset    \n",
    "    window = Window(xoff, yoff, xsize, ysize)\n",
    "    '''print('xoff: ' + str(xoff))\n",
    "    print('yoff: ' + str(yoff))\n",
    "    print('xsize: ' + str(xsize))\n",
    "    print('ysize: ' + str(ysize))'''\n",
    "    transform = src.window_transform(window)\n",
    "\n",
    "    # Create a new cropped raster to write to\n",
    "    profile = src.profile\n",
    "    profile.update({\n",
    "        'height': xsize,\n",
    "        'width': ysize,\n",
    "        'transform': transform})\n",
    "\n",
    "    with rasterio.open('cropped.tif', 'w', **profile) as dst:\n",
    "        # Read the data from the window and write it to the output raster\n",
    "        dst.write(src.read(window=window))"
   ]
  },
  {
   "cell_type": "markdown",
   "metadata": {},
   "source": [
    "Visualising Crop"
   ]
  },
  {
   "cell_type": "code",
   "execution_count": 52,
   "metadata": {},
   "outputs": [
    {
     "name": "stdout",
     "output_type": "stream",
     "text": [
      "{'driver': 'GTiff', 'dtype': 'float32', 'nodata': None, 'width': 44, 'height': 37, 'count': 139, 'crs': CRS.from_epsg(4326), 'transform': Affine(0.011093804166666664, 0.0, 14.160749424999999,\n",
      "       0.0, -0.011093804166666664, 36.11790459583333)}\n"
     ]
    }
   ],
   "source": [
    "raster = rasterio.open('cropped.tif')\n",
    "\n",
    "# This will print out a short version of the  meta data associated with this file.\n",
    "print(raster.meta)"
   ]
  },
  {
   "cell_type": "markdown",
   "metadata": {},
   "source": [
    "Data visualization units."
   ]
  },
  {
   "cell_type": "code",
   "execution_count": 53,
   "metadata": {},
   "outputs": [
    {
     "name": "stdout",
     "output_type": "stream",
     "text": [
      "BoundingBox(left=14.160749424999999, bottom=35.70743384166666, right=14.648876808333332, top=36.11790459583333)\n"
     ]
    }
   ],
   "source": [
    "# Data visualization units.\n",
    "#unit = '[ K ]'\n",
    "unit = '[ °C ]'\n",
    "\n",
    "long_name = 'Sentinel-3 Land Surface Temperature'\n",
    "\n",
    "# We need to know the geographical extent of the data, this is contained in the raster object.\n",
    "\n",
    "bbox = raster.bounds\n",
    "extent=[bbox[0],bbox[2],bbox[1],bbox[3]]\n",
    "#extent=[35.7, 36.1, 14.1, 14.6]\n",
    "print (bbox)"
   ]
  },
  {
   "cell_type": "code",
   "execution_count": 54,
   "metadata": {},
   "outputs": [
    {
     "name": "stdout",
     "output_type": "stream",
     "text": [
      "Rescaled size:  (37, 44)\n"
     ]
    }
   ],
   "source": [
    "upscale_factor = 1\n",
    "\n",
    "# resample data to target shape\n",
    "data = raster.read(\n",
    "out_shape=(\n",
    "    raster.count,\n",
    "    int(raster.height * upscale_factor),\n",
    "    int(raster.width * upscale_factor)\n",
    "        ),\n",
    "        resampling=Resampling.bilinear\n",
    "    )\n",
    "\n",
    "    # scale image transform\n",
    "transform = raster.transform * raster.transform.scale(\n",
    "(raster.width / data.shape[-1]),\n",
    "(raster.height / data.shape[-2]))\n",
    "\n",
    "print('Rescaled size: ',np.shape(data[0,:,:]))"
   ]
  },
  {
   "cell_type": "code",
   "execution_count": 58,
   "metadata": {},
   "outputs": [
    {
     "name": "stdout",
     "output_type": "stream",
     "text": [
      "[[[0.    0.    0.    ... 0.    0.    0.   ]\n",
      "  [0.    0.    0.    ... 0.    0.    0.   ]\n",
      "  [0.    0.    0.    ... 0.    0.    0.   ]\n",
      "  ...\n",
      "  [0.    0.    0.    ... 0.    0.    0.   ]\n",
      "  [0.    0.    0.    ... 0.    0.    0.   ]\n",
      "  [0.    0.    0.    ... 0.    0.    0.   ]]\n",
      "\n",
      " [[0.    0.    0.    ... 0.    0.    0.   ]\n",
      "  [0.    0.    0.    ... 0.    0.    0.   ]\n",
      "  [0.    0.    0.    ... 0.    0.    0.   ]\n",
      "  ...\n",
      "  [0.    0.    0.    ... 0.    0.    0.   ]\n",
      "  [0.    0.    0.    ... 0.    0.    0.   ]\n",
      "  [0.    0.    0.    ... 0.    0.    0.   ]]\n",
      "\n",
      " [[0.    0.    0.    ... 0.    0.    0.   ]\n",
      "  [0.    0.    0.    ... 0.    0.    0.   ]\n",
      "  [0.    0.    0.    ... 0.    0.    0.   ]\n",
      "  ...\n",
      "  [0.    0.    0.    ... 0.    0.    0.   ]\n",
      "  [0.    0.    0.    ... 0.    0.    0.   ]\n",
      "  [0.    0.    0.    ... 0.    0.    0.   ]]\n",
      "\n",
      " ...\n",
      "\n",
      " [[3.664 3.688 3.635 ... 0.    0.    0.   ]\n",
      "  [3.746 3.73  3.701 ... 3.686 0.    0.   ]\n",
      "  [3.79  3.773 3.715 ... 3.738 0.    0.   ]\n",
      "  ...\n",
      "  [4.715 4.715 4.7   ... 3.87  3.846 0.   ]\n",
      "  [4.723 4.73  4.71  ... 3.89  3.87  0.   ]\n",
      "  [0.    0.    0.    ... 0.    0.    0.   ]]\n",
      "\n",
      " [[1.907 1.887 1.795 ... 0.    0.    0.   ]\n",
      "  [2.004 1.952 1.847 ... 2.523 0.    0.   ]\n",
      "  [2.066 2.018 1.899 ... 2.53  0.    0.   ]\n",
      "  ...\n",
      "  [2.912 2.89  2.895 ... 2.574 2.568 0.   ]\n",
      "  [2.9   2.887 2.879 ... 2.576 2.572 0.   ]\n",
      "  [0.    0.    0.    ... 0.    0.    0.   ]]\n",
      "\n",
      " [[4.31  4.305 4.266 ... 0.    0.    0.   ]\n",
      "  [4.336 4.312 4.27  ... 4.39  0.    0.   ]\n",
      "  [4.348 4.324 4.293 ... 4.348 0.    0.   ]\n",
      "  ...\n",
      "  [4.383 4.35  4.34  ... 3.61  3.6   0.   ]\n",
      "  [4.375 4.367 4.348 ... 3.623 3.611 0.   ]\n",
      "  [0.    0.    0.    ... 0.    0.    0.   ]]]\n"
     ]
    },
    {
     "data": {
      "image/png": "[encoded data removed]",
      "text/plain": [
       "<Figure size 1080x864 with 2 Axes>"
      ]
     },
     "metadata": {
      "needs_background": "light"
     },
     "output_type": "display_data"
    }
   ],
   "source": [
    "# Here we set up the parameters needed to display the geographical data correctly.\n",
    "fig=plt.figure(figsize=(15, 12))\n",
    "\n",
    "# Here we set up a simple Plate Carree geographical projection. This is handled by the Cartopy library.\n",
    "#proj = ccrs.epsg(3857)\n",
    "#ax = plt.axes(projection=proj)\n",
    "ax = plt.axes(projection=ccrs.PlateCarree())\n",
    "\n",
    "# The coastline data get downloaded here, there may be a delay the first time you run this notebook.\n",
    "ax.coastlines(resolution='10m')\n",
    "ax.gridlines()\n",
    "ax.set_title(long_name, fontsize=20, pad=20.0, fontweight = 'bold')\n",
    "\n",
    "# Here we set the colour map for matplotlib. e.g. 'flag', 'prism', 'ocean', 'gist_earth', 'terrain', 'gist_stern', 'jet', also\n",
    "# selecting which colour to associate with the NODATA value in the map\n",
    "\n",
    "color = cm.jet\n",
    "\n",
    "color.set_bad('white')\n",
    "\n",
    "#The pixel associated to the NODATA values are masked out.\n",
    "\n",
    "data = data.astype(np.float16)\n",
    "data[data == -32768.0] = np.nan\n",
    "\n",
    "# As the product contains the data in Digital Numbers (DN), it is necessary to calibrate them with the SCALE FACTOR and OFFSET values.\n",
    "# These can be retrieved from the extended metadata of the file. \n",
    "\n",
    "scale_factor = 0.0020000001\n",
    "\n",
    "offset = 290\n",
    "\n",
    "#cal_data = scale_factor * data - 273 + offset\n",
    "cal_data = data - 273 + offset\n",
    "\n",
    "img = plt.imshow(cal_data[0,:,:], cmap = color,extent = extent,transform=ccrs.PlateCarree())\n",
    "\n",
    "cbar = fig.colorbar(img, ax=ax, orientation='horizontal', fraction=0.04, pad=0.05)\n",
    "cbar.set_label(unit, fontsize=16, fontweight = 'bold')\n",
    "cbar.ax.tick_params(labelsize=14)\n",
    "plt.savefig('lst_cropped_snap.png')\n",
    "plt.show()"
   ]
  }
 ],
 "metadata": {
  "interpreter": {
   "hash": "9e9ba7665b06092894b9f43a817e1c81059b3bdeb345738b866505d682b47b54"
  },
  "kernelspec": {
   "display_name": "Python 3.6.15 ('snap')",
   "language": "python",
   "name": "python3"
  },
  "language_info": {
   "codemirror_mode": {
    "name": "ipython",
    "version": 3
   },
   "file_extension": ".py",
   "mimetype": "text/x-python",
   "name": "python",
   "nbconvert_exporter": "python",
   "pygments_lexer": "ipython3",
   "version": "3.6.15"
  },
  "orig_nbformat": 4
 },
 "nbformat": 4,
 "nbformat_minor": 2
}
