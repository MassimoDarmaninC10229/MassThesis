{
 "cells": [
  {
   "cell_type": "code",
   "execution_count": 2,
   "metadata": {},
   "outputs": [],
   "source": [
    "import pyepsg\n",
    "import snappy\n",
    "from snappy import HashMap\n",
    "import gc   \n",
    "from snappy import GPF\n",
    "jpy = snappy.jpy\n",
    "from snappy import ProductIO, File\n",
    "import matplotlib.pyplot as plt\n",
    "import matplotlib.cm as cm\n",
    "import cartopy.crs as ccrs\n",
    "import numpy as np\n",
    "import fiona\n",
    "import rasterio\n",
    "from rasterio.windows import Window\n",
    "from rasterio.plot import show\n",
    "from rasterio.enums import Resampling\n",
    "import rasterio.mask"
   ]
  },
  {
   "cell_type": "code",
   "execution_count": 21,
   "metadata": {},
   "outputs": [
    {
     "data": {
      "text/plain": [
       "['LST', 'exception']"
      ]
     },
     "execution_count": 21,
     "metadata": {},
     "output_type": "execute_result"
    }
   ],
   "source": [
    "#file type\n",
    "File = jpy.get_type('java.io.File')\n",
    "\n",
    "#product to be used\n",
    "archi=File('metaCrop.tif')\n",
    "#archi=File('./tif/projected_S3B_SL_2_LST____20210813T093653_20210813T093953_20210813T120050_0179_055_364_2340_LN2_O_NR_004.SEN3.tif')\n",
    "#archi=File('S3B_SL_2_LST____20210616T094035_20210616T094335_20210617T190722_0179_053_307_2340_LN2_O_NT_004.SEN3')\n",
    "product = ProductIO.readProduct(archi)\n",
    "reader = snappy.ProductIO.getProductReader('SEN3')\n",
    "\n",
    "#listing all bands\n",
    "list(product.getBandNames())"
   ]
  },
  {
   "cell_type": "code",
   "execution_count": 22,
   "metadata": {},
   "outputs": [
    {
     "data": {
      "image/png": "[encoded data removed]",
      "text/plain": [
       "<Figure size 1296x720 with 3 Axes>"
      ]
     },
     "metadata": {
      "needs_background": "light"
     },
     "output_type": "display_data"
    }
   ],
   "source": [
    "# Get LST Band\n",
    "#band = product.getBand('LST') # Assign Band to a variable\n",
    "band = product.getBand('LST')\n",
    "w = product.getSceneRasterWidth() # Get Band Width\n",
    "h = product.getSceneRasterHeight() # Get Band Height\n",
    "\n",
    "# Create an empty array\n",
    "band_data = np.zeros(w * h, np.float32)\n",
    "# Populate array with pixel value\n",
    "band.readPixels(0, 0, w, h, band_data) \n",
    "# Reshape\n",
    "band_data.shape = h, w\n",
    "# Plot the band  \n",
    "plt.figure(figsize=(18,10))\n",
    "\n",
    "##Heatmap colours\n",
    "color = cm.jet\n",
    "color.set_bad('white')\n",
    "#plt.imshow(band_data, cmap = color)\n",
    "\n",
    "#plt.show()\n",
    "\n",
    "plt.subplot(131)\n",
    "plt.imshow(band_data, cmap='gray'), plt.title('Grey')\n",
    "plt.axis('off')\n",
    "plt.subplot(132)\n",
    "plt.imshow(band_data, cmap = plt.cm.binary), plt.title('Binary')\n",
    "plt.axis('off')\n",
    "plt.subplot(133)\n",
    "plt.imshow(band_data, cmap = color), plt.title('color')\n",
    "plt.axis('off')\n",
    "plt.show()"
   ]
  },
  {
   "cell_type": "code",
   "execution_count": 16,
   "metadata": {},
   "outputs": [],
   "source": [
    "ProductIO.writeProduct(product, 'fulltestTiff', 'GeoTIFF-BigTIFF')"
   ]
  }
 ],
 "metadata": {
  "interpreter": {
   "hash": "12ffa7c1e0c26126cd67100676ae2d2fa7567739e3c24303a57b27ee7196024e"
  },
  "kernelspec": {
   "display_name": "Python 3.6.15 ('snap')",
   "language": "python",
   "name": "python3"
  },
  "language_info": {
   "codemirror_mode": {
    "name": "ipython",
    "version": 3
   },
   "file_extension": ".py",
   "mimetype": "text/x-python",
   "name": "python",
   "nbconvert_exporter": "python",
   "pygments_lexer": "ipython3",
   "version": "3.6.15"
  },
  "orig_nbformat": 4
 },
 "nbformat": 4,
 "nbformat_minor": 2
}
