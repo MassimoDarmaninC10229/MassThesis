{
 "cells": [
  {
   "cell_type": "markdown",
   "metadata": {},
   "source": [
    "init"
   ]
  },
  {
   "cell_type": "code",
   "execution_count": 2,
   "metadata": {},
   "outputs": [],
   "source": [
    "import snappy\n",
    "from snappy import HashMap\n",
    "\n",
    "jpy = snappy.jpy\n",
    "from snappy import ProductIO, File\n",
    "\n",
    "import fiona\n",
    "\n",
    "import matplotlib.pyplot as plt\n",
    "import matplotlib.cm as cm\n",
    "import cartopy.crs as ccrs\n",
    "import numpy as np\n",
    "\n",
    "import rasterio\n",
    "import rasterio.mask\n",
    "from rasterio.enums import Resampling"
   ]
  },
  {
   "cell_type": "code",
   "execution_count": 94,
   "metadata": {},
   "outputs": [
    {
     "name": "stderr",
     "output_type": "stream",
     "text": [
      "WARNING:rasterio._env:CPLE_AppDefined in TIFFReadDirectory:Sum of Photometric type-related color channels and ExtraSamples doesn't match SamplesPerPixel. Defining non-color channels as ExtraSamples.\n"
     ]
    }
   ],
   "source": [
    "File = jpy.get_type('java.io.File')\n",
    "reader = snappy.ProductIO.getProductReader('SEN3')\n",
    "\n",
    "with fiona.open(\"../Malta Shape File/MaltaShapeFile.shp\", \"r\") as shapefile:\n",
    "    shapes = [feature[\"geometry\"] for feature in shapefile]\n",
    "\n",
    "with rasterio.open('./tif/projected_S3B_SL_2_LST____20210813T093653_20210813T093953_20210813T120050_0179_055_364_2340_LN2_O_NR_004.SEN3.tif') as src:\n",
    "    out_image, out_transform = rasterio.mask.mask(src, shapes, crop=True)\n",
    "    out_meta = src.descriptions\n",
    "    out_meta = src.meta\n",
    "    out_meta.update({\"driver\": \"GTiff\",\n",
    "                    \"height\": out_image.shape[1],\n",
    "                    \"width\": out_image.shape[2],\n",
    "                    \"transform\": out_transform,\n",
    "                    \"dtype\": \"float32\"})\n",
    "    with rasterio.open('cropped.tif', 'w', **out_meta) as dst:\n",
    "        # Read the data from the window and write it to the output raster\n",
    "        dst.meta\n",
    "        dst.update_tags(**out_meta)\n",
    "        dst.write(out_image)"
   ]
  },
  {
   "cell_type": "code",
   "execution_count": 104,
   "metadata": {},
   "outputs": [
    {
     "name": "stderr",
     "output_type": "stream",
     "text": [
      "WARNING:rasterio._env:CPLE_AppDefined in TIFFReadDirectory:Sum of Photometric type-related color channels and ExtraSamples doesn't match SamplesPerPixel. Defining non-color channels as ExtraSamples.\n"
     ]
    },
    {
     "name": "stdout",
     "output_type": "stream",
     "text": [
      "{'driver': 'GTiff', 'dtype': 'float32', 'nodata': None, 'width': 122, 'height': 100, 'count': 2, 'crs': CRS.from_epsg(4326), 'transform': Affine(0.011101493308412638, 0.0, 13.730555595912174,\n",
      "       0.0, -0.011101493308412638, 36.362360461123046)}\n"
     ]
    }
   ],
   "source": [
    "raster = rasterio.open('metaCrop.tif')\n",
    "\n",
    "# This will print out a short version of the  meta data associated with this file.\n",
    "print(raster.meta)"
   ]
  },
  {
   "cell_type": "markdown",
   "metadata": {},
   "source": [
    "Data visualization units."
   ]
  },
  {
   "cell_type": "code",
   "execution_count": 105,
   "metadata": {},
   "outputs": [
    {
     "name": "stdout",
     "output_type": "stream",
     "text": [
      "BoundingBox(left=13.730555595912174, bottom=35.25221113028178, right=15.084937779538516, top=36.362360461123046)\n"
     ]
    }
   ],
   "source": [
    "# Data visualization units.\n",
    "#unit = '[ K ]'\n",
    "unit = '[ °C ]'\n",
    "\n",
    "long_name = 'Sentinel-3 Land Surface Temperature'\n",
    "\n",
    "# We need to know the geographical extent of the data, this is contained in the raster object.\n",
    "\n",
    "bbox = raster.bounds\n",
    "extent=[bbox[0],bbox[2],bbox[1],bbox[3]]\n",
    "#extent=[35.7, 36.1, 14.1, 14.6]\n",
    "print (bbox)"
   ]
  },
  {
   "cell_type": "code",
   "execution_count": 128,
   "metadata": {},
   "outputs": [
    {
     "name": "stdout",
     "output_type": "stream",
     "text": [
      "Rescaled size:  (100, 122)\n"
     ]
    }
   ],
   "source": [
    "upscale_factor = 1\n",
    "\n",
    "# resample data to target shape\n",
    "data = raster.read(\n",
    "out_shape=(\n",
    "    raster.count,\n",
    "    int(raster.height * upscale_factor),\n",
    "    int(raster.width * upscale_factor)\n",
    "        ),\n",
    "        resampling=Resampling.bilinear\n",
    "    )\n",
    "\n",
    "    # scale image transform\n",
    "transform = raster.transform * raster.transform.scale(\n",
    "(raster.width / data.shape[-1]),\n",
    "(raster.height / data.shape[-2]))\n",
    "\n",
    "print('Rescaled size: ',np.shape(data[0,:,:]))"
   ]
  },
  {
   "cell_type": "code",
   "execution_count": 129,
   "metadata": {},
   "outputs": [
    {
     "data": {
      "image/png": "[encoded data removed]",
      "text/plain": [
       "<Figure size 1080x864 with 2 Axes>"
      ]
     },
     "metadata": {
      "needs_background": "light"
     },
     "output_type": "display_data"
    }
   ],
   "source": [
    "# Here we set up the parameters needed to display the geographical data correctly.\n",
    "fig=plt.figure(figsize=(15, 12))\n",
    "\n",
    "# Here we set up a simple Plate Carree geographical projection. This is handled by the Cartopy library.\n",
    "#proj = ccrs.epsg(3857)\n",
    "#ax = plt.axes(projection=proj)\n",
    "ax = plt.axes(projection=ccrs.PlateCarree())\n",
    "\n",
    "# The coastline data get downloaded here, there may be a delay the first time you run this notebook.\n",
    "#ax.coastlines(resolution='10m')\n",
    "#ax.gridlines()\n",
    "ax.set_title(long_name, fontsize=20, pad=20.0, fontweight = 'bold')\n",
    "\n",
    "# Here we set the colour map for matplotlib. e.g. 'flag', 'prism', 'ocean', 'gist_earth', 'terrain', 'gist_stern', 'jet', also\n",
    "# selecting which colour to associate with the NODATA value in the map\n",
    "\n",
    "color = cm.jet\n",
    "\n",
    "color.set_bad('white')\n",
    "\n",
    "#The pixel associated to the NODATA values are masked out.\n",
    "\n",
    "data = data.astype(np.float16)\n",
    "data[data == -32768.0] = np.nan\n",
    "\n",
    "# As the product contains the data in Digital Numbers (DN), it is necessary to calibrate them with the SCALE FACTOR and OFFSET values.\n",
    "# These can be retrieved from the extended metadata of the file. \n",
    "\n",
    "scale_factor = 0.0020000001\n",
    "\n",
    "offset = 290\n",
    "\n",
    "cal_data = scale_factor * data - 273 + offset\n",
    "#cal_data = data - 273 + offset\n",
    "\n",
    "img = plt.imshow(cal_data[0,:,:], cmap = color,extent = extent,transform=ccrs.PlateCarree())\n",
    "\n",
    "cbar = fig.colorbar(img, ax=ax, orientation='horizontal', fraction=0.04, pad=0.05)\n",
    "cbar.set_label(unit, fontsize=16, fontweight = 'bold')\n",
    "cbar.ax.tick_params(labelsize=14)\n",
    "plt.savefig('metaCrop.png')\n",
    "plt.show()"
   ]
  },
  {
   "cell_type": "code",
   "execution_count": null,
   "metadata": {},
   "outputs": [],
   "source": [
    "##https://www.eea.europa.eu/soer/2010/countries/mt/land-use-state-and-impacts-malta\n",
    "#file:///C:/Users/Massimo/Downloads/20BSCES022.pdf"
   ]
  },
  {
   "cell_type": "code",
   "execution_count": 119,
   "metadata": {},
   "outputs": [
    {
     "data": {
      "image/png": "[encoded data removed]",
      "text/plain": [
       "<Figure size 432x288 with 1 Axes>"
      ]
     },
     "metadata": {
      "needs_background": "light"
     },
     "output_type": "display_data"
    }
   ],
   "source": [
    "plt.hist(cal_data[0,:,:])\n",
    "plt.show() "
   ]
  },
  {
   "cell_type": "code",
   "execution_count": 143,
   "metadata": {},
   "outputs": [
    {
     "name": "stdout",
     "output_type": "stream",
     "text": [
      "[nan nan nan nan nan nan nan nan nan nan nan nan nan nan nan nan nan nan\n",
      " nan nan nan nan nan nan nan nan nan nan nan nan nan nan nan nan nan nan\n",
      " nan nan nan nan nan nan nan nan nan nan nan nan nan nan nan nan nan nan\n",
      " nan nan nan nan nan nan nan nan nan nan nan nan nan nan nan nan nan nan\n",
      " nan nan nan nan nan nan nan nan nan nan nan nan nan nan nan nan nan nan\n",
      " nan nan nan nan nan nan nan nan nan nan nan nan nan nan nan nan nan nan\n",
      " nan nan nan nan nan nan nan nan nan nan nan nan nan nan]\n"
     ]
    }
   ],
   "source": [
    "array = np.stack(cal_data[0])  # (n bands by n rows by n cols array)\n",
    "result = array.mean(axis=0)\n",
    "print(result)"
   ]
  },
  {
   "cell_type": "code",
   "execution_count": null,
   "metadata": {},
   "outputs": [],
   "source": [
    "import csv, os\n",
    "lst = cal_data[0,:,:]\n",
    "#for i in range(len(lst[1])):\n",
    "    #if lst[i] != '':\n",
    "        #print(lst[i])\n",
    "\n",
    "with open('test.csv', 'w', newline='') as file:\n",
    "    writer = csv.writer(file)\n",
    "    writer.writerow([\"LST\"])\n",
    "\n",
    "    for i in range(len(lst)):\n",
    "        writer.writerow([lst[i]]) \n"
   ]
  },
  {
   "cell_type": "code",
   "execution_count": null,
   "metadata": {},
   "outputs": [],
   "source": [
    "with open('test.csv', 'w', newline='') as file:\n",
    "    writer = csv.writer(file)\n",
    "    writer.writerow([\"LST\"])\n",
    "\n",
    "    for i in range(len(cal_data[1])):\n",
    "        writer.writerow([cal_data[i]]) "
   ]
  }
 ],
 "metadata": {
  "interpreter": {
   "hash": "12ffa7c1e0c26126cd67100676ae2d2fa7567739e3c24303a57b27ee7196024e"
  },
  "kernelspec": {
   "display_name": "Python 3.6.15 ('snap')",
   "language": "python",
   "name": "python3"
  },
  "language_info": {
   "codemirror_mode": {
    "name": "ipython",
    "version": 3
   },
   "file_extension": ".py",
   "mimetype": "text/x-python",
   "name": "python",
   "nbconvert_exporter": "python",
   "pygments_lexer": "ipython3",
   "version": "3.6.15"
  },
  "orig_nbformat": 4
 },
 "nbformat": 4,
 "nbformat_minor": 2
}
