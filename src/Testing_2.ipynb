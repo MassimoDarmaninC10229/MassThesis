{
 "cells": [
  {
   "cell_type": "code",
   "execution_count": 1,
   "metadata": {},
   "outputs": [],
   "source": [
    "import cartopy.crs as ccrs\n",
    "import rasterio\n",
    "import numpy as np\n",
    "\n",
    "import matplotlib.pyplot as plt\n",
    "import matplotlib.cm as cm\n",
    "\n",
    "from rasterio.plot import show\n",
    "\n",
    "import folium\n",
    "import geopandas as gpd"
   ]
  },
  {
   "cell_type": "code",
   "execution_count": 2,
   "metadata": {},
   "outputs": [
    {
     "name": "stdout",
     "output_type": "stream",
     "text": [
      "[[[    0.     0.     0. ...     0.     0.     0.]\n",
      "  [    0.     0.     0. ...     0.     0.     0.]\n",
      "  [    0.     0.     0. ...     0.     0.     0.]\n",
      "  ...\n",
      "  [    0.     0.     0. ...     0.     0.     0.]\n",
      "  [    0.     0.     0. ...     0.     0.     0.]\n",
      "  [    0.     0.     0. ...     0.     0.     0.]]\n",
      "\n",
      " [[    0.     0.     0. ...     0.     0.     0.]\n",
      "  [    0.     0.     0. ...     0.     0.     0.]\n",
      "  [    0.     0.     0. ...     0.     0.     0.]\n",
      "  ...\n",
      "  [    0.     0.     0. ...     0.     0.     0.]\n",
      "  [    0.     0.     0. ...     0.     0.     0.]\n",
      "  [    0.     0.     0. ...     0.     0.     0.]]\n",
      "\n",
      " [[    0.     0.     0. ...     0.     0.     0.]\n",
      "  [    0.     0.     0. ...     0.     0.     0.]\n",
      "  [    0.     0.     0. ...     0.     0.     0.]\n",
      "  ...\n",
      "  [    0.     0.     0. ...     0.     0.     0.]\n",
      "  [    0.     0.     0. ...     0.     0.     0.]\n",
      "  [    0.     0.     0. ...     0.     0.     0.]]\n",
      "\n",
      " ...\n",
      "\n",
      " [[  255.   255.   255. ...   255.   255.   255.]\n",
      "  [  255.   255.   255. ...   255.   255.   255.]\n",
      "  [  255.   255.   255. ...   255.   255.   255.]\n",
      "  ...\n",
      "  [  255.   255.   255. ...   255.   255.   255.]\n",
      "  [  255.   255.   255. ...   255.   255.   255.]\n",
      "  [  255.   255.   255. ...   255.   255.   255.]]\n",
      "\n",
      " [[65535. 65535. 65535. ... 65535. 65535. 65535.]\n",
      "  [65535. 65535. 65535. ... 65535. 65535. 65535.]\n",
      "  [65535. 65535. 65535. ... 65535. 65535. 65535.]\n",
      "  ...\n",
      "  [65535. 65535. 65535. ... 65535. 65535. 65535.]\n",
      "  [65535. 65535. 65535. ... 65535. 65535. 65535.]\n",
      "  [65535. 65535. 65535. ... 65535. 65535. 65535.]]\n",
      "\n",
      " [[65535. 65535. 65535. ... 65535. 65535. 65535.]\n",
      "  [65535. 65535. 65535. ... 65535. 65535. 65535.]\n",
      "  [65535. 65535. 65535. ... 65535. 65535. 65535.]\n",
      "  ...\n",
      "  [65535. 65535. 65535. ... 65535. 65535. 65535.]\n",
      "  [65535. 65535. 65535. ... 65535. 65535. 65535.]\n",
      "  [65535. 65535. 65535. ... 65535. 65535. 65535.]]]\n"
     ]
    }
   ],
   "source": [
    "raster = rasterio.open('testTiff.tif')\n",
    "lst = raster.read()\n",
    "lst = lst.astype(float)\n",
    "print(lst)\n",
    "\n",
    "meta = raster.meta\n",
    "meta.update(driver='GTiff')\n",
    "meta.update(dtype=rasterio.float64)\n",
    "\n",
    "with rasterio.open('lst.tif', 'w', **meta) as dst:\n",
    "    dst.write(lst)"
   ]
  },
  {
   "cell_type": "code",
   "execution_count": 3,
   "metadata": {},
   "outputs": [
    {
     "name": "stderr",
     "output_type": "stream",
     "text": [
      "C:\\Users\\Massimo\\anaconda3\\envs\\snap\\lib\\site-packages\\pyproj\\crs.py:77: FutureWarning: '+init=<authority>:<code>' syntax is deprecated. '<authority>:<code>' is the preferred initialization method.\n",
      "  return _prepare_from_string(\" \".join(pjargs))\n"
     ]
    }
   ],
   "source": [
    "#m = folium.Map(location=[35.9452,14.3797], zoom_start=10)\n",
    "m = folium.Map(location=[14.3797,35.9452], zoom_start=10)\n",
    "\n",
    "boundsdata = r'C:/Users/Massimo/Documents/SchoolFolder/ThirdYear/Thesis/MassThesis/src/References/malta.geojson'\n",
    "region = gpd.read_file(boundsdata)\n",
    "nReserve_proj = region.to_crs({'init': 'epsg:4326'})"
   ]
  },
  {
   "cell_type": "code",
   "execution_count": 5,
   "metadata": {},
   "outputs": [],
   "source": [
    "from rasterio.mask import mask\n",
    "\n",
    "with rasterio.open(\"lst.tif\") as src:\n",
    "    out_image, out_transform = rasterio.mask.mask(src, nReserve_proj.geometry,crop=True)\n",
    "    out_meta = src.meta.copy()\n",
    "    out_meta.update({\"driver\": \"GTiff\",\n",
    "                 \"height\": out_image.shape[1],\n",
    "                 \"width\": out_image.shape[2],\n",
    "                 \"transform\": out_transform})\n",
    "\n",
    "with rasterio.open('cropped.tif', 'w', **meta) as dst:\n",
    "    dst.write(out_image)"
   ]
  },
  {
   "cell_type": "markdown",
   "metadata": {},
   "source": [
    "## Working"
   ]
  },
  {
   "cell_type": "code",
   "execution_count": 27,
   "metadata": {},
   "outputs": [],
   "source": [
    "import random\n",
    "import rasterio\n",
    "from rasterio.windows import Window\n",
    "\n",
    "path_laptop = 'C:/Users/Massimo/Documents/SchoolFolder/ThirdYear/Thesis/SentinelData/TIF_files/S3B_SL_2_LST____20210616T094035_20210616T094335_20210617T190722_0179_053_307_2340_LN2_O_NT_004_LST.tif'\n",
    "\n",
    "with rasterio.open(path_laptop) as src:\n",
    "\n",
    "    # The size in pixels of your desired window\n",
    "    #xsize, ysize = 512, 512\n",
    "    xsize, ysize = 64, 64\n",
    "\n",
    "    # Generate a random window location that doesn't go outside the image\n",
    "    xmin, xmax = 0, src.width - xsize\n",
    "    ymin, ymax = 0, src.height - ysize\n",
    "    #xoff, yoff = random.randint(xmin, xmax), random.randint(ymin, ymax)\n",
    "    xoff, yoff = 1270, 390\n",
    "\n",
    "    # Create a Window and calculate the transform from the source dataset    \n",
    "    window = Window(xoff, yoff, xsize, ysize)\n",
    "    '''print('xoff: ' + str(xoff))\n",
    "    print('yoff: ' + str(yoff))\n",
    "    print('xsize: ' + str(xsize))\n",
    "    print('ysize: ' + str(ysize))'''\n",
    "    transform = src.window_transform(window)\n",
    "\n",
    "    # Create a new cropped raster to write to\n",
    "    profile = src.profile\n",
    "    profile.update({\n",
    "        'height': xsize,\n",
    "        'width': ysize,\n",
    "        'transform': transform})\n",
    "\n",
    "    with rasterio.open('cropped.tif', 'w', **profile) as dst:\n",
    "        # Read the data from the window and write it to the output raster\n",
    "        dst.write(src.read(window=window))"
   ]
  }
 ],
 "metadata": {
  "interpreter": {
   "hash": "9e9ba7665b06092894b9f43a817e1c81059b3bdeb345738b866505d682b47b54"
  },
  "kernelspec": {
   "display_name": "Python 3.6.15 ('snap')",
   "language": "python",
   "name": "python3"
  },
  "language_info": {
   "codemirror_mode": {
    "name": "ipython",
    "version": 3
   },
   "file_extension": ".py",
   "mimetype": "text/x-python",
   "name": "python",
   "nbconvert_exporter": "python",
   "pygments_lexer": "ipython3",
   "version": "3.6.15"
  },
  "orig_nbformat": 4
 },
 "nbformat": 4,
 "nbformat_minor": 2
}
