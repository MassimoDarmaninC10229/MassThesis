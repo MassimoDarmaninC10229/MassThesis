{
 "cells": [
  {
   "cell_type": "code",
   "execution_count": 31,
   "metadata": {},
   "outputs": [],
   "source": [
    "import cartopy.crs as ccrs\n",
    "import rasterio\n",
    "import numpy as np\n",
    "\n",
    "import matplotlib.pyplot as plt\n",
    "import matplotlib.cm as cm\n",
    "\n",
    "from rasterio.plot import show\n",
    "\n",
    "import folium\n",
    "import geopandas as gpd"
   ]
  },
  {
   "cell_type": "code",
   "execution_count": 45,
   "metadata": {},
   "outputs": [
    {
     "name": "stdout",
     "output_type": "stream",
     "text": [
      "[[[    0.     0.     0. ...     0.     0.     0.]\n",
      "  [    0.     0.     0. ...     0.     0.     0.]\n",
      "  [    0.     0.     0. ...     0.     0.     0.]\n",
      "  ...\n",
      "  [    0.     0.     0. ...     0.     0.     0.]\n",
      "  [    0.     0.     0. ...     0.     0.     0.]\n",
      "  [    0.     0.     0. ...     0.     0.     0.]]\n",
      "\n",
      " [[    0.     0.     0. ...     0.     0.     0.]\n",
      "  [    0.     0.     0. ...     0.     0.     0.]\n",
      "  [    0.     0.     0. ...     0.     0.     0.]\n",
      "  ...\n",
      "  [    0.     0.     0. ...     0.     0.     0.]\n",
      "  [    0.     0.     0. ...     0.     0.     0.]\n",
      "  [    0.     0.     0. ...     0.     0.     0.]]\n",
      "\n",
      " [[    0.     0.     0. ...     0.     0.     0.]\n",
      "  [    0.     0.     0. ...     0.     0.     0.]\n",
      "  [    0.     0.     0. ...     0.     0.     0.]\n",
      "  ...\n",
      "  [    0.     0.     0. ...     0.     0.     0.]\n",
      "  [    0.     0.     0. ...     0.     0.     0.]\n",
      "  [    0.     0.     0. ...     0.     0.     0.]]\n",
      "\n",
      " ...\n",
      "\n",
      " [[  255.   255.   255. ...   255.   255.   255.]\n",
      "  [  255.   255.   255. ...   255.   255.   255.]\n",
      "  [  255.   255.   255. ...   255.   255.   255.]\n",
      "  ...\n",
      "  [  255.   255.   255. ...   255.   255.   255.]\n",
      "  [  255.   255.   255. ...   255.   255.   255.]\n",
      "  [  255.   255.   255. ...   255.   255.   255.]]\n",
      "\n",
      " [[65535. 65535. 65535. ... 65535. 65535. 65535.]\n",
      "  [65535. 65535. 65535. ... 65535. 65535. 65535.]\n",
      "  [65535. 65535. 65535. ... 65535. 65535. 65535.]\n",
      "  ...\n",
      "  [65535. 65535. 65535. ... 65535. 65535. 65535.]\n",
      "  [65535. 65535. 65535. ... 65535. 65535. 65535.]\n",
      "  [65535. 65535. 65535. ... 65535. 65535. 65535.]]\n",
      "\n",
      " [[65535. 65535. 65535. ... 65535. 65535. 65535.]\n",
      "  [65535. 65535. 65535. ... 65535. 65535. 65535.]\n",
      "  [65535. 65535. 65535. ... 65535. 65535. 65535.]\n",
      "  ...\n",
      "  [65535. 65535. 65535. ... 65535. 65535. 65535.]\n",
      "  [65535. 65535. 65535. ... 65535. 65535. 65535.]\n",
      "  [65535. 65535. 65535. ... 65535. 65535. 65535.]]]\n"
     ]
    }
   ],
   "source": [
    "raster = rasterio.open('testTiff.tif')\n",
    "lst = raster.read()\n",
    "lst = lst.astype(float)\n",
    "print(lst)\n",
    "\n",
    "meta = raster.meta\n",
    "meta.update(driver='GTiff')\n",
    "meta.update(dtype=rasterio.float64)\n",
    "\n",
    "with rasterio.open('lst.tif', 'w', **meta) as dst:\n",
    "    dst.write(lst)"
   ]
  },
  {
   "cell_type": "code",
   "execution_count": 46,
   "metadata": {},
   "outputs": [
    {
     "name": "stderr",
     "output_type": "stream",
     "text": [
      "C:\\Users\\Massimo\\anaconda3\\envs\\snap\\lib\\site-packages\\pyproj\\crs.py:77: FutureWarning: '+init=<authority>:<code>' syntax is deprecated. '<authority>:<code>' is the preferred initialization method.\n",
      "  return _prepare_from_string(\" \".join(pjargs))\n"
     ]
    }
   ],
   "source": [
    "m = folium.Map(location=[35.9452,14.3797], zoom_start=10)\n",
    "\n",
    "boundsdata = r'C:/Users/Massimo/Documents/SchoolFolder/ThirdYear/Thesis/MassThesis/src/References/malta.geojson'\n",
    "region = gpd.read_file(boundsdata)\n",
    "nReserve_proj = region.to_crs({'init': 'epsg:4326'})"
   ]
  },
  {
   "cell_type": "code",
   "execution_count": 47,
   "metadata": {},
   "outputs": [],
   "source": [
    "with rasterio.open(\"lst.tif\") as src:\n",
    "    out_image, out_transform = rasterio.mask.mask(src, nReserve_proj.geometry,crop=True)\n",
    "    out_meta = src.meta.copy()\n",
    "    out_meta.update({\"driver\": \"GTiff\",\n",
    "                 \"height\": out_image.shape[1],\n",
    "                 \"width\": out_image.shape[2],\n",
    "                 \"transform\": out_transform})\n",
    "\n",
    "with rasterio.open('cropped.tif', 'w', **meta) as dst:\n",
    "    dst.write(out_image)"
   ]
  }
 ],
 "metadata": {
  "interpreter": {
   "hash": "9e9ba7665b06092894b9f43a817e1c81059b3bdeb345738b866505d682b47b54"
  },
  "kernelspec": {
   "display_name": "Python 3.6.15 ('snap')",
   "language": "python",
   "name": "python3"
  },
  "language_info": {
   "codemirror_mode": {
    "name": "ipython",
    "version": 3
   },
   "file_extension": ".py",
   "mimetype": "text/x-python",
   "name": "python",
   "nbconvert_exporter": "python",
   "pygments_lexer": "ipython3",
   "version": "3.6.15"
  },
  "orig_nbformat": 4
 },
 "nbformat": 4,
 "nbformat_minor": 2
}
