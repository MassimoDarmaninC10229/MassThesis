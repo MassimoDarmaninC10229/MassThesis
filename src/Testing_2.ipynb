{
 "cells": [
  {
   "cell_type": "markdown",
   "metadata": {},
   "source": [
    "test 1"
   ]
  },
  {
   "cell_type": "code",
   "execution_count": null,
   "metadata": {},
   "outputs": [],
   "source": [
    "import cartopy.crs as ccrs\n",
    "import rasterio\n",
    "import numpy as np\n",
    "\n",
    "import matplotlib.pyplot as plt\n",
    "import matplotlib.cm as cm\n",
    "\n",
    "from rasterio.plot import show\n",
    "\n",
    "import folium\n",
    "import geopandas as gpd"
   ]
  },
  {
   "cell_type": "code",
   "execution_count": 2,
   "metadata": {},
   "outputs": [
    {
     "name": "stdout",
     "output_type": "stream",
     "text": [
      "[[[    0.     0.     0. ...     0.     0.     0.]\n",
      "  [    0.     0.     0. ...     0.     0.     0.]\n",
      "  [    0.     0.     0. ...     0.     0.     0.]\n",
      "  ...\n",
      "  [    0.     0.     0. ...     0.     0.     0.]\n",
      "  [    0.     0.     0. ...     0.     0.     0.]\n",
      "  [    0.     0.     0. ...     0.     0.     0.]]\n",
      "\n",
      " [[    0.     0.     0. ...     0.     0.     0.]\n",
      "  [    0.     0.     0. ...     0.     0.     0.]\n",
      "  [    0.     0.     0. ...     0.     0.     0.]\n",
      "  ...\n",
      "  [    0.     0.     0. ...     0.     0.     0.]\n",
      "  [    0.     0.     0. ...     0.     0.     0.]\n",
      "  [    0.     0.     0. ...     0.     0.     0.]]\n",
      "\n",
      " [[    0.     0.     0. ...     0.     0.     0.]\n",
      "  [    0.     0.     0. ...     0.     0.     0.]\n",
      "  [    0.     0.     0. ...     0.     0.     0.]\n",
      "  ...\n",
      "  [    0.     0.     0. ...     0.     0.     0.]\n",
      "  [    0.     0.     0. ...     0.     0.     0.]\n",
      "  [    0.     0.     0. ...     0.     0.     0.]]\n",
      "\n",
      " ...\n",
      "\n",
      " [[  255.   255.   255. ...   255.   255.   255.]\n",
      "  [  255.   255.   255. ...   255.   255.   255.]\n",
      "  [  255.   255.   255. ...   255.   255.   255.]\n",
      "  ...\n",
      "  [  255.   255.   255. ...   255.   255.   255.]\n",
      "  [  255.   255.   255. ...   255.   255.   255.]\n",
      "  [  255.   255.   255. ...   255.   255.   255.]]\n",
      "\n",
      " [[65535. 65535. 65535. ... 65535. 65535. 65535.]\n",
      "  [65535. 65535. 65535. ... 65535. 65535. 65535.]\n",
      "  [65535. 65535. 65535. ... 65535. 65535. 65535.]\n",
      "  ...\n",
      "  [65535. 65535. 65535. ... 65535. 65535. 65535.]\n",
      "  [65535. 65535. 65535. ... 65535. 65535. 65535.]\n",
      "  [65535. 65535. 65535. ... 65535. 65535. 65535.]]\n",
      "\n",
      " [[65535. 65535. 65535. ... 65535. 65535. 65535.]\n",
      "  [65535. 65535. 65535. ... 65535. 65535. 65535.]\n",
      "  [65535. 65535. 65535. ... 65535. 65535. 65535.]\n",
      "  ...\n",
      "  [65535. 65535. 65535. ... 65535. 65535. 65535.]\n",
      "  [65535. 65535. 65535. ... 65535. 65535. 65535.]\n",
      "  [65535. 65535. 65535. ... 65535. 65535. 65535.]]]\n"
     ]
    }
   ],
   "source": [
    "raster = rasterio.open('fulltestTiff.tif')\n",
    "lst = raster.read()\n",
    "lst = lst.astype(float)\n",
    "#print(lst)\n",
    "\n",
    "meta = raster.meta\n",
    "meta.update(driver='GTiff')\n",
    "meta.update(dtype=rasterio.float64)\n",
    "\n",
    "with rasterio.open('lst.tif', 'w', **meta) as dst:\n",
    "    dst.write(lst)"
   ]
  },
  {
   "cell_type": "code",
   "execution_count": 3,
   "metadata": {},
   "outputs": [
    {
     "name": "stderr",
     "output_type": "stream",
     "text": [
      "C:\\Users\\Massimo\\anaconda3\\envs\\snap\\lib\\site-packages\\pyproj\\crs.py:77: FutureWarning: '+init=<authority>:<code>' syntax is deprecated. '<authority>:<code>' is the preferred initialization method.\n",
      "  return _prepare_from_string(\" \".join(pjargs))\n"
     ]
    }
   ],
   "source": [
    "#m = folium.Map(location=[35.9452,14.3797], zoom_start=10)\n",
    "m = folium.Map(location=[14.3797,35.9452], zoom_start=10)\n",
    "\n",
    "boundsdata = r'C:/Users/Massimo/Documents/SchoolFolder/ThirdYear/Thesis/MassThesis/src/References/malta.geojson'\n",
    "region = gpd.read_file(boundsdata)\n",
    "nReserve_proj = region.to_crs({'init': 'epsg:4326'})"
   ]
  },
  {
   "cell_type": "code",
   "execution_count": 5,
   "metadata": {},
   "outputs": [],
   "source": [
    "from rasterio.mask import mask\n",
    "\n",
    "with rasterio.open(\"lst.tif\") as src:\n",
    "    out_image, out_transform = rasterio.mask.mask(src, nReserve_proj.geometry,crop=True)\n",
    "    out_meta = src.meta.copy()\n",
    "    out_meta.update({\"driver\": \"GTiff\",\n",
    "                 \"height\": out_image.shape[1],\n",
    "                 \"width\": out_image.shape[2],\n",
    "                 \"transform\": out_transform})\n",
    "\n",
    "with rasterio.open('cropped.tif', 'w', **meta) as dst:\n",
    "    dst.write(out_image)"
   ]
  },
  {
   "cell_type": "markdown",
   "metadata": {},
   "source": [
    "test 2 Working but hardcoded"
   ]
  },
  {
   "cell_type": "code",
   "execution_count": 27,
   "metadata": {},
   "outputs": [],
   "source": [
    "import random\n",
    "import rasterio\n",
    "from rasterio.windows import Window\n",
    "\n",
    "path_laptop = 'C:/Users/Massimo/Documents/SchoolFolder/ThirdYear/Thesis/SentinelData/TIF_files/S3B_SL_2_LST____20210616T094035_20210616T094335_20210617T190722_0179_053_307_2340_LN2_O_NT_004_LST.tif'\n",
    "\n",
    "with rasterio.open(path_laptop) as src:\n",
    "\n",
    "    # The size in pixels of your desired window\n",
    "    #xsize, ysize = 512, 512\n",
    "    xsize, ysize = 64, 64\n",
    "\n",
    "    # Generate a random window location that doesn't go outside the image\n",
    "    xmin, xmax = 0, src.width - xsize\n",
    "    ymin, ymax = 0, src.height - ysize\n",
    "    #xoff, yoff = random.randint(xmin, xmax), random.randint(ymin, ymax)\n",
    "    xoff, yoff = 1270, 390\n",
    "\n",
    "    # Create a Window and calculate the transform from the source dataset    \n",
    "    window = Window(xoff, yoff, xsize, ysize)\n",
    "    '''print('xoff: ' + str(xoff))\n",
    "    print('yoff: ' + str(yoff))\n",
    "    print('xsize: ' + str(xsize))\n",
    "    print('ysize: ' + str(ysize))'''\n",
    "    transform = src.window_transform(window)\n",
    "\n",
    "    # Create a new cropped raster to write to\n",
    "    profile = src.profile\n",
    "    profile.update({\n",
    "        'height': xsize,\n",
    "        'width': ysize,\n",
    "        'transform': transform})\n",
    "\n",
    "    with rasterio.open('cropped.tif', 'w', **profile) as dst:\n",
    "        # Read the data from the window and write it to the output raster\n",
    "        dst.write(src.read(window=window))"
   ]
  },
  {
   "cell_type": "markdown",
   "metadata": {},
   "source": [
    "test3"
   ]
  },
  {
   "cell_type": "code",
   "execution_count": 10,
   "metadata": {},
   "outputs": [
    {
     "name": "stderr",
     "output_type": "stream",
     "text": [
      "C:\\Users\\Massimo\\anaconda3\\envs\\snap\\lib\\site-packages\\pyproj\\crs.py:77: FutureWarning: '+init=<authority>:<code>' syntax is deprecated. '<authority>:<code>' is the preferred initialization method.\n",
      "  return _prepare_from_string(\" \".join(pjargs))\n"
     ]
    },
    {
     "data": {
      "image/png": "[encoded data removed]",
      "text/plain": [
       "<Figure size 1440x1152 with 1 Axes>"
      ]
     },
     "metadata": {
      "needs_background": "light"
     },
     "output_type": "display_data"
    }
   ],
   "source": [
    "import geopandas as gpd\n",
    "import rasterio as rio\n",
    "import rasterio.mask\n",
    "from skimage import exposure\n",
    "from rasterio import plot\n",
    "from rasterio.crs import CRS\n",
    "\n",
    "# Load polygon vector\n",
    "boundsdata = r'C:/Users/Massimo/Documents/SchoolFolder/ThirdYear/Thesis/MassThesis/src/References/malta.geojson'\n",
    "region = gpd.read_file(boundsdata)\n",
    "region\n",
    "\n",
    "nReserve_proj = region.to_crs({'init': 'epsg:4326'})\n",
    "\n",
    "with rio.open(\"fulltestTiff.tif\") as src:\n",
    "                out_image, out_transform = rio.mask.mask(src, nReserve_proj.geometry,crop=True)\n",
    "                out_meta = src.meta.copy()\n",
    "                out_meta.update({\"driver\": \"GTiff\",\n",
    "                             \"height\": out_image.shape[1],\n",
    "                             \"width\": out_image.shape[2],\n",
    "                             \"transform\": out_transform,\n",
    "                             \"dtype\": \"uint16\"})\n",
    "\n",
    "# Rescale the image (divide by 10000 to convert to [0:1] reflectance\n",
    "image = np.array(out_image[[2,1,0], :, :])\n",
    "p2, p98 = np.percentile(image, (2,98))\n",
    "image = exposure.rescale_intensity(image, in_range=(p2, p98)) / 100000\n",
    "\n",
    "rgb = np.array(image.transpose(1,2,0))\n",
    "\n",
    "#Plot and save image with Matplotlib\n",
    "fig = plt.figure(figsize=(20,16))\n",
    "ax=fig.add_subplot(1,1,1)\n",
    "#fig.suptitle(\"BOLD TITLE\")\n",
    "plt.axis('off')\n",
    "plt.imshow(rgb)\n",
    "\n",
    "#Save scaled reflectance image\n",
    "# Call 'savefig' to save this plot to an image file\n",
    "file_to_save = 'test3.png'\n",
    "plt.savefig(file_to_save)\n",
    "plt.show()"
   ]
  },
  {
   "cell_type": "markdown",
   "metadata": {},
   "source": [
    "test 4"
   ]
  },
  {
   "cell_type": "code",
   "execution_count": 25,
   "metadata": {},
   "outputs": [
    {
     "data": {
      "image/png": "[encoded data removed]",
      "text/plain": [
       "<Figure size 1440x1152 with 1 Axes>"
      ]
     },
     "metadata": {
      "needs_background": "light"
     },
     "output_type": "display_data"
    }
   ],
   "source": [
    "import numpy as np\n",
    "import rasterio\n",
    "from rasterio.warp import calculate_default_transform, reproject, Resampling\n",
    "from skimage import exposure\n",
    "from rasterio import plot\n",
    "import matplotlib.pyplot as plt\n",
    "\n",
    "#dst_crs = 'EPSG:32633'\n",
    "#dst_crs = 'EPSG:4326' \n",
    "dst_crs = 'EPSG:3857' \n",
    "\n",
    "with rasterio.open('fulltestTiff.tif') as src:\n",
    "    transform, width, height = calculate_default_transform(\n",
    "        src.crs, dst_crs, src.width, src.height, *src.bounds)\n",
    "    kwargs = src.meta.copy()\n",
    "    kwargs.update({\n",
    "        'crs': dst_crs,\n",
    "        'transform': transform,\n",
    "        'width': width,\n",
    "        'height': height\n",
    "    })\n",
    "\n",
    "    with rasterio.open('3857.tif', 'w', **kwargs) as dst:\n",
    "        for i in range(1, src.count + 1):\n",
    "            reproject(\n",
    "                source=rasterio.band(src, i),\n",
    "                destination=rasterio.band(dst, i),\n",
    "                src_transform=src.transform,\n",
    "                src_crs=src.crs,\n",
    "                dst_transform=transform,\n",
    "                dst_crs=dst_crs,\n",
    "                resampling=Resampling.nearest)\n",
    "\n",
    "# Load polygon vector\n",
    "boundsdata = r'C:/Users/Massimo/Documents/SchoolFolder/ThirdYear/Thesis/SentinelData/ShapeFile/malta2.geojson'\n",
    "region = gpd.read_file(boundsdata)\n",
    "region\n",
    "\n",
    "nReserve_proj = region.to_crs({'init': 'epsg:3857'})\n",
    "\n",
    "with rio.open(\"3857.tif\") as src:\n",
    "                out_image, out_transform = rio.mask.mask(src, nReserve_proj.geometry,crop=True)\n",
    "                out_meta = src.meta.copy()\n",
    "                out_meta.update({\"driver\": \"GTiff\",\n",
    "                             \"height\": out_image.shape[1],\n",
    "                             \"width\": out_image.shape[2],\n",
    "                             \"transform\": out_transform,\n",
    "                             \"dtype\": \"uint16\"})\n",
    "\n",
    "# Rescale the image (divide by 10000 to convert to [0:1] reflectance\n",
    "image = np.array(out_image[[2,1,0], :, :])\n",
    "#p2, p98 = np.percentile(image, (2,98))\n",
    "#image = exposure.rescale_intensity(image, in_range=(p2, p98)) / 100000\n",
    "\n",
    "rgb = np.array(image.transpose(1,2,0))\n",
    "\n",
    "#Plot and save image with Matplotlib\n",
    "fig = plt.figure(figsize=(20,16))\n",
    "ax=fig.add_subplot(1,1,1)\n",
    "#fig.suptitle(\"BOLD TITLE\")\n",
    "plt.axis('off')\n",
    "plt.imshow(rgb)\n",
    "\n",
    "#Save scaled reflectance image\n",
    "# Call 'savefig' to save this plot to an image file\n",
    "file_to_save = 'test4.png'\n",
    "plt.savefig(file_to_save)\n",
    "plt.show()"
   ]
  },
  {
   "cell_type": "markdown",
   "metadata": {},
   "source": [
    "test 5"
   ]
  },
  {
   "cell_type": "code",
   "execution_count": 30,
   "metadata": {},
   "outputs": [
    {
     "ename": "SyntaxError",
     "evalue": "invalid syntax (<ipython-input-30-aab92b7b26bf>, line 1)",
     "output_type": "error",
     "traceback": [
      "\u001b[1;36m  File \u001b[1;32m\"<ipython-input-30-aab92b7b26bf>\"\u001b[1;36m, line \u001b[1;32m1\u001b[0m\n\u001b[1;33m    https://gis.stackexchange.com/questions/395666/georeferencing-sentinel-3-lst-product\u001b[0m\n\u001b[1;37m           ^\u001b[0m\n\u001b[1;31mSyntaxError\u001b[0m\u001b[1;31m:\u001b[0m invalid syntax\n"
     ]
    }
   ],
   "source": [
    "https://gis.stackexchange.com/questions/395666/georeferencing-sentinel-3-lst-product"
   ]
  },
  {
   "cell_type": "markdown",
   "metadata": {},
   "source": [
    "test 6"
   ]
  },
  {
   "cell_type": "code",
   "execution_count": null,
   "metadata": {},
   "outputs": [],
   "source": []
  }
 ],
 "metadata": {
  "interpreter": {
   "hash": "9e9ba7665b06092894b9f43a817e1c81059b3bdeb345738b866505d682b47b54"
  },
  "kernelspec": {
   "display_name": "Python 3.6.15 ('snap')",
   "language": "python",
   "name": "python3"
  },
  "language_info": {
   "codemirror_mode": {
    "name": "ipython",
    "version": 3
   },
   "file_extension": ".py",
   "mimetype": "text/x-python",
   "name": "python",
   "nbconvert_exporter": "python",
   "pygments_lexer": "ipython3",
   "version": "3.6.15"
  },
  "orig_nbformat": 4
 },
 "nbformat": 4,
 "nbformat_minor": 2
}
