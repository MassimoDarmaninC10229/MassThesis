{
 "cells": [
  {
   "cell_type": "markdown",
   "metadata": {},
   "source": [
    "test 1"
   ]
  },
  {
   "cell_type": "code",
   "execution_count": null,
   "metadata": {},
   "outputs": [],
   "source": [
    "import cartopy.crs as ccrs\n",
    "import rasterio\n",
    "import numpy as np\n",
    "\n",
    "import matplotlib.pyplot as plt\n",
    "import matplotlib.cm as cm\n",
    "\n",
    "from rasterio.plot import show\n",
    "\n",
    "import folium\n",
    "import geopandas as gpd"
   ]
  },
  {
   "cell_type": "code",
   "execution_count": 2,
   "metadata": {},
   "outputs": [
    {
     "name": "stdout",
     "output_type": "stream",
     "text": [
      "[[[    0.     0.     0. ...     0.     0.     0.]\n",
      "  [    0.     0.     0. ...     0.     0.     0.]\n",
      "  [    0.     0.     0. ...     0.     0.     0.]\n",
      "  ...\n",
      "  [    0.     0.     0. ...     0.     0.     0.]\n",
      "  [    0.     0.     0. ...     0.     0.     0.]\n",
      "  [    0.     0.     0. ...     0.     0.     0.]]\n",
      "\n",
      " [[    0.     0.     0. ...     0.     0.     0.]\n",
      "  [    0.     0.     0. ...     0.     0.     0.]\n",
      "  [    0.     0.     0. ...     0.     0.     0.]\n",
      "  ...\n",
      "  [    0.     0.     0. ...     0.     0.     0.]\n",
      "  [    0.     0.     0. ...     0.     0.     0.]\n",
      "  [    0.     0.     0. ...     0.     0.     0.]]\n",
      "\n",
      " [[    0.     0.     0. ...     0.     0.     0.]\n",
      "  [    0.     0.     0. ...     0.     0.     0.]\n",
      "  [    0.     0.     0. ...     0.     0.     0.]\n",
      "  ...\n",
      "  [    0.     0.     0. ...     0.     0.     0.]\n",
      "  [    0.     0.     0. ...     0.     0.     0.]\n",
      "  [    0.     0.     0. ...     0.     0.     0.]]\n",
      "\n",
      " ...\n",
      "\n",
      " [[  255.   255.   255. ...   255.   255.   255.]\n",
      "  [  255.   255.   255. ...   255.   255.   255.]\n",
      "  [  255.   255.   255. ...   255.   255.   255.]\n",
      "  ...\n",
      "  [  255.   255.   255. ...   255.   255.   255.]\n",
      "  [  255.   255.   255. ...   255.   255.   255.]\n",
      "  [  255.   255.   255. ...   255.   255.   255.]]\n",
      "\n",
      " [[65535. 65535. 65535. ... 65535. 65535. 65535.]\n",
      "  [65535. 65535. 65535. ... 65535. 65535. 65535.]\n",
      "  [65535. 65535. 65535. ... 65535. 65535. 65535.]\n",
      "  ...\n",
      "  [65535. 65535. 65535. ... 65535. 65535. 65535.]\n",
      "  [65535. 65535. 65535. ... 65535. 65535. 65535.]\n",
      "  [65535. 65535. 65535. ... 65535. 65535. 65535.]]\n",
      "\n",
      " [[65535. 65535. 65535. ... 65535. 65535. 65535.]\n",
      "  [65535. 65535. 65535. ... 65535. 65535. 65535.]\n",
      "  [65535. 65535. 65535. ... 65535. 65535. 65535.]\n",
      "  ...\n",
      "  [65535. 65535. 65535. ... 65535. 65535. 65535.]\n",
      "  [65535. 65535. 65535. ... 65535. 65535. 65535.]\n",
      "  [65535. 65535. 65535. ... 65535. 65535. 65535.]]]\n"
     ]
    }
   ],
   "source": [
    "raster = rasterio.open('fulltestTiff.tif')\n",
    "lst = raster.read()\n",
    "lst = lst.astype(float)\n",
    "#print(lst)\n",
    "\n",
    "meta = raster.meta\n",
    "meta.update(driver='GTiff')\n",
    "meta.update(dtype=rasterio.float64)\n",
    "\n",
    "with rasterio.open('lst.tif', 'w', **meta) as dst:\n",
    "    dst.write(lst)"
   ]
  },
  {
   "cell_type": "code",
   "execution_count": 3,
   "metadata": {},
   "outputs": [
    {
     "name": "stderr",
     "output_type": "stream",
     "text": [
      "C:\\Users\\Massimo\\anaconda3\\envs\\snap\\lib\\site-packages\\pyproj\\crs.py:77: FutureWarning: '+init=<authority>:<code>' syntax is deprecated. '<authority>:<code>' is the preferred initialization method.\n",
      "  return _prepare_from_string(\" \".join(pjargs))\n"
     ]
    }
   ],
   "source": [
    "#m = folium.Map(location=[35.9452,14.3797], zoom_start=10)\n",
    "m = folium.Map(location=[14.3797,35.9452], zoom_start=10)\n",
    "\n",
    "boundsdata = r'C:/Users/Massimo/Documents/SchoolFolder/ThirdYear/Thesis/MassThesis/src/References/malta.geojson'\n",
    "region = gpd.read_file(boundsdata)\n",
    "nReserve_proj = region.to_crs({'init': 'epsg:4326'})"
   ]
  },
  {
   "cell_type": "code",
   "execution_count": 5,
   "metadata": {},
   "outputs": [],
   "source": [
    "from rasterio.mask import mask\n",
    "\n",
    "with rasterio.open(\"lst.tif\") as src:\n",
    "    out_image, out_transform = rasterio.mask.mask(src, nReserve_proj.geometry,crop=True)\n",
    "    out_meta = src.meta.copy()\n",
    "    out_meta.update({\"driver\": \"GTiff\",\n",
    "                 \"height\": out_image.shape[1],\n",
    "                 \"width\": out_image.shape[2],\n",
    "                 \"transform\": out_transform})\n",
    "\n",
    "with rasterio.open('cropped.tif', 'w', **meta) as dst:\n",
    "    dst.write(out_image)"
   ]
  },
  {
   "cell_type": "markdown",
   "metadata": {},
   "source": [
    "test 2 Working but hardcoded"
   ]
  },
  {
   "cell_type": "code",
   "execution_count": 27,
   "metadata": {},
   "outputs": [],
   "source": [
    "import random\n",
    "import rasterio\n",
    "from rasterio.windows import Window\n",
    "\n",
    "path_laptop = 'C:/Users/Massimo/Documents/SchoolFolder/ThirdYear/Thesis/SentinelData/TIF_files/S3B_SL_2_LST____20210616T094035_20210616T094335_20210617T190722_0179_053_307_2340_LN2_O_NT_004_LST.tif'\n",
    "\n",
    "with rasterio.open(path_laptop) as src:\n",
    "\n",
    "    # The size in pixels of your desired window\n",
    "    #xsize, ysize = 512, 512\n",
    "    xsize, ysize = 64, 64\n",
    "\n",
    "    # Generate a random window location that doesn't go outside the image\n",
    "    xmin, xmax = 0, src.width - xsize\n",
    "    ymin, ymax = 0, src.height - ysize\n",
    "    #xoff, yoff = random.randint(xmin, xmax), random.randint(ymin, ymax)\n",
    "    xoff, yoff = 1270, 390\n",
    "\n",
    "    # Create a Window and calculate the transform from the source dataset    \n",
    "    window = Window(xoff, yoff, xsize, ysize)\n",
    "    '''print('xoff: ' + str(xoff))\n",
    "    print('yoff: ' + str(yoff))\n",
    "    print('xsize: ' + str(xsize))\n",
    "    print('ysize: ' + str(ysize))'''\n",
    "    transform = src.window_transform(window)\n",
    "\n",
    "    # Create a new cropped raster to write to\n",
    "    profile = src.profile\n",
    "    profile.update({\n",
    "        'height': xsize,\n",
    "        'width': ysize,\n",
    "        'transform': transform})\n",
    "\n",
    "    with rasterio.open('cropped.tif', 'w', **profile) as dst:\n",
    "        # Read the data from the window and write it to the output raster\n",
    "        dst.write(src.read(window=window))"
   ]
  },
  {
   "cell_type": "markdown",
   "metadata": {},
   "source": [
    "test3"
   ]
  },
  {
   "cell_type": "code",
   "execution_count": 10,
   "metadata": {},
   "outputs": [
    {
     "name": "stderr",
     "output_type": "stream",
     "text": [
      "C:\\Users\\Massimo\\anaconda3\\envs\\snap\\lib\\site-packages\\pyproj\\crs.py:77: FutureWarning: '+init=<authority>:<code>' syntax is deprecated. '<authority>:<code>' is the preferred initialization method.\n",
      "  return _prepare_from_string(\" \".join(pjargs))\n"
     ]
    },
    {
     "data": {
      "image/png": "[encoded data removed]",
      "text/plain": [
       "<Figure size 1440x1152 with 1 Axes>"
      ]
     },
     "metadata": {
      "needs_background": "light"
     },
     "output_type": "display_data"
    }
   ],
   "source": [
    "import geopandas as gpd\n",
    "import rasterio as rio\n",
    "import rasterio.mask\n",
    "from skimage import exposure\n",
    "from rasterio import plot\n",
    "from rasterio.crs import CRS\n",
    "\n",
    "# Load polygon vector\n",
    "boundsdata = r'C:/Users/Massimo/Documents/SchoolFolder/ThirdYear/Thesis/MassThesis/src/References/malta.geojson'\n",
    "region = gpd.read_file(boundsdata)\n",
    "region\n",
    "\n",
    "nReserve_proj = region.to_crs({'init': 'epsg:4326'})\n",
    "\n",
    "with rio.open(\"fulltestTiff.tif\") as src:\n",
    "                out_image, out_transform = rio.mask.mask(src, nReserve_proj.geometry,crop=True)\n",
    "                out_meta = src.meta.copy()\n",
    "                out_meta.update({\"driver\": \"GTiff\",\n",
    "                             \"height\": out_image.shape[1],\n",
    "                             \"width\": out_image.shape[2],\n",
    "                             \"transform\": out_transform,\n",
    "                             \"dtype\": \"uint16\"})\n",
    "\n",
    "# Rescale the image (divide by 10000 to convert to [0:1] reflectance\n",
    "image = np.array(out_image[[2,1,0], :, :])\n",
    "p2, p98 = np.percentile(image, (2,98))\n",
    "image = exposure.rescale_intensity(image, in_range=(p2, p98)) / 100000\n",
    "\n",
    "rgb = np.array(image.transpose(1,2,0))\n",
    "\n",
    "#Plot and save image with Matplotlib\n",
    "fig = plt.figure(figsize=(20,16))\n",
    "ax=fig.add_subplot(1,1,1)\n",
    "#fig.suptitle(\"BOLD TITLE\")\n",
    "plt.axis('off')\n",
    "plt.imshow(rgb)\n",
    "\n",
    "#Save scaled reflectance image\n",
    "# Call 'savefig' to save this plot to an image file\n",
    "file_to_save = 'test3.png'\n",
    "plt.savefig(file_to_save)\n",
    "plt.show()"
   ]
  },
  {
   "cell_type": "markdown",
   "metadata": {},
   "source": [
    "test 4"
   ]
  },
  {
   "cell_type": "code",
   "execution_count": 25,
   "metadata": {},
   "outputs": [
    {
     "data": {
      "image/png": "[encoded data removed]",
      "text/plain": [
       "<Figure size 1440x1152 with 1 Axes>"
      ]
     },
     "metadata": {
      "needs_background": "light"
     },
     "output_type": "display_data"
    }
   ],
   "source": [
    "import numpy as np\n",
    "import rasterio\n",
    "from rasterio.warp import calculate_default_transform, reproject, Resampling\n",
    "from skimage import exposure\n",
    "from rasterio import plot\n",
    "import matplotlib.pyplot as plt\n",
    "\n",
    "#dst_crs = 'EPSG:32633'\n",
    "#dst_crs = 'EPSG:4326' \n",
    "dst_crs = 'EPSG:3857' \n",
    "\n",
    "with rasterio.open('fulltestTiff.tif') as src:\n",
    "    transform, width, height = calculate_default_transform(\n",
    "        src.crs, dst_crs, src.width, src.height, *src.bounds)\n",
    "    kwargs = src.meta.copy()\n",
    "    kwargs.update({\n",
    "        'crs': dst_crs,\n",
    "        'transform': transform,\n",
    "        'width': width,\n",
    "        'height': height\n",
    "    })\n",
    "\n",
    "    with rasterio.open('3857.tif', 'w', **kwargs) as dst:\n",
    "        for i in range(1, src.count + 1):\n",
    "            reproject(\n",
    "                source=rasterio.band(src, i),\n",
    "                destination=rasterio.band(dst, i),\n",
    "                src_transform=src.transform,\n",
    "                src_crs=src.crs,\n",
    "                dst_transform=transform,\n",
    "                dst_crs=dst_crs,\n",
    "                resampling=Resampling.nearest)\n",
    "\n",
    "# Load polygon vector\n",
    "boundsdata = r'C:/Users/Massimo/Documents/SchoolFolder/ThirdYear/Thesis/SentinelData/ShapeFile/malta2.geojson'\n",
    "region = gpd.read_file(boundsdata)\n",
    "region\n",
    "\n",
    "nReserve_proj = region.to_crs({'init': 'epsg:3857'})\n",
    "\n",
    "with rio.open(\"3857.tif\") as src:\n",
    "                out_image, out_transform = rio.mask.mask(src, nReserve_proj.geometry,crop=True)\n",
    "                out_meta = src.meta.copy()\n",
    "                out_meta.update({\"driver\": \"GTiff\",\n",
    "                             \"height\": out_image.shape[1],\n",
    "                             \"width\": out_image.shape[2],\n",
    "                             \"transform\": out_transform,\n",
    "                             \"dtype\": \"uint16\"})\n",
    "\n",
    "# Rescale the image (divide by 10000 to convert to [0:1] reflectance\n",
    "image = np.array(out_image[[2,1,0], :, :])\n",
    "#p2, p98 = np.percentile(image, (2,98))\n",
    "#image = exposure.rescale_intensity(image, in_range=(p2, p98)) / 100000\n",
    "\n",
    "rgb = np.array(image.transpose(1,2,0))\n",
    "\n",
    "#Plot and save image with Matplotlib\n",
    "fig = plt.figure(figsize=(20,16))\n",
    "ax=fig.add_subplot(1,1,1)\n",
    "#fig.suptitle(\"BOLD TITLE\")\n",
    "plt.axis('off')\n",
    "plt.imshow(rgb)\n",
    "\n",
    "#Save scaled reflectance image\n",
    "# Call 'savefig' to save this plot to an image file\n",
    "file_to_save = 'test4.png'\n",
    "plt.savefig(file_to_save)\n",
    "plt.show()"
   ]
  },
  {
   "cell_type": "markdown",
   "metadata": {},
   "source": [
    "test 5"
   ]
  },
  {
   "cell_type": "markdown",
   "metadata": {},
   "source": [
    "https://gis.stackexchange.com/questions/395666/georeferencing-sentinel-3-lst-product"
   ]
  },
  {
   "cell_type": "markdown",
   "metadata": {},
   "source": [
    "test 6"
   ]
  },
  {
   "cell_type": "code",
   "execution_count": 2,
   "metadata": {},
   "outputs": [
    {
     "name": "stdout",
     "output_type": "stream",
     "text": [
      "<xarray.DataArray 'LST' (rows: 1200, columns: 1500)>\n",
      "[1800000 values with dtype=float32]\n",
      "Dimensions without coordinates: rows, columns\n",
      "Attributes:\n",
      "    long_name:      Gridded Land Surface Temperature\n",
      "    standard_name:  surface_temperature\n",
      "    units:          K\n",
      "    valid_max:      32767\n",
      "    valid_min:      -32767\n",
      "<xarray.DataArray 'longitude_in' (rows: 1200, columns: 1500)>\n",
      "[1800000 values with dtype=float64]\n",
      "Dimensions without coordinates: rows, columns\n",
      "Attributes:\n",
      "    long_name:      Longitude of detector FOV centre on the earth's surface\n",
      "    standard_name:  longitude\n",
      "    units:          degrees_east\n",
      "    valid_max:      180000000\n",
      "    valid_min:      -180000000\n",
      "<xarray.DataArray 'latitude_in' (rows: 1200, columns: 1500)>\n",
      "[1800000 values with dtype=float64]\n",
      "Dimensions without coordinates: rows, columns\n",
      "Attributes:\n",
      "    long_name:      Latitude of detector FOV centre on the earth's surface\n",
      "    standard_name:  latitude\n",
      "    units:          degrees_north\n",
      "    valid_max:      90000000\n",
      "    valid_min:      -90000000\n"
     ]
    }
   ],
   "source": [
    "#import rioxarray\n",
    "import xarray\n",
    "import rasterio\n",
    "\n",
    "path_pc = 'H:/Thesis Sentinel Data/2018/covid/05-May/S3A_SL_2_LST____20180523T190820_20180523T204919_20180525T030656_6059_031_270______LN2_O_NT_003/'\\\n",
    "       'S3A_SL_2_LST____20180523T190820_20180523T204919_20180525T030656_6059_031_270______LN2_O_NT_003.SEN3'\n",
    "path_laptop = 'C:/Users/Massimo/Documents/SchoolFolder/ThirdYear/Thesis/SentinelData/2021/extra/' \\\n",
    "       'S3B_SL_2_LST____20210616T094035_20210616T094335_20210617T190722_0179_053_307_2340_LN2_O_NT_004.SEN3'\n",
    "\n",
    "##Set up path\n",
    "path = path_laptop\n",
    "\n",
    "#creating filepath names\n",
    "climate_filepath = (path + \"/LST_in.nc\")\n",
    "cart_filepath = (path + \"/geodetic_in.nc\")\n",
    "\n",
    "dsLST = xarray.open_dataset(climate_filepath)\n",
    "dsGEO = xarray.open_dataset(cart_filepath)\n",
    "\n",
    "##Showing off datasets\n",
    "#print(str(dsLST) + '\\n---------------------------------\\n\\n' + str(dsGEO))\n",
    "\n",
    "##Showing off variables\n",
    "print(dsLST['LST'])\n",
    "print(dsGEO['longitude_in'])\n",
    "print(dsGEO['latitude_in']) \n"
   ]
  },
  {
   "cell_type": "code",
   "execution_count": 4,
   "metadata": {},
   "outputs": [
    {
     "name": "stdout",
     "output_type": "stream",
     "text": [
      "<xarray.Dataset>\n",
      "Dimensions:                 (columns: 1500, orphan_pixels: 187, rows: 1200)\n",
      "Dimensions without coordinates: columns, orphan_pixels, rows\n",
      "Data variables:\n",
      "    LST                     (rows, columns) float32 ...\n",
      "    LST_orphan              (rows, orphan_pixels) float32 ...\n",
      "    LST_uncertainty         (rows, columns) float32 ...\n",
      "    LST_uncertainty_orphan  (rows, orphan_pixels) float32 ...\n",
      "    exception               (rows, columns) int16 ...\n",
      "    exception_orphan        (rows, orphan_pixels) int16 ...\n",
      "    elevation_in            (rows, columns) float32 nan nan nan ... nan nan nan\n",
      "    elevation_orphan_in     (rows, orphan_pixels) float32 45.0 45.0 ... nan nan\n",
      "    latitude_in             (rows, columns) float64 42.0 42.0 ... 28.69 28.69\n",
      "    latitude_orphan_in      (rows, orphan_pixels) float64 41.52 41.52 ... nan\n",
      "    longitude_in            (rows, columns) float64 0.565 0.577 ... 14.09 14.1\n",
      "    longitude_orphan_in     (rows, orphan_pixels) float64 5.094 5.127 ... nan\n",
      "Attributes: (12/16)\n",
      "    absolute_orbit_number:  16364\n",
      "    comment:                 \n",
      "    contact:                eosupport@copernicus.esa.int\n",
      "    creation_time:          20210617T190722Z\n",
      "    history:                  2021-06-17T19:07:22Z: PUGCoreProcessor /data/ip...\n",
      "    institution:            LN2\n",
      "    ...                     ...\n",
      "    source:                 IPF-SL-2 06.17\n",
      "    start_offset:           56061\n",
      "    start_time:             2021-06-16T09:40:34.697558Z\n",
      "    stop_time:              2021-06-16T09:43:34.391016Z\n",
      "    title:                  SLSTR Level 2 Product, Land Surface Temperature m...\n",
      "    track_offset:           998\n"
     ]
    }
   ],
   "source": [
    "##Merging\n",
    "dsLST = dsLST.merge(dsGEO)\n",
    "print(dsLST)"
   ]
  },
  {
   "cell_type": "code",
   "execution_count": null,
   "metadata": {},
   "outputs": [],
   "source": [
    "##Writing CRS (optional?)\n",
    "dsLST.rio.write_crs(\"epsg:4326\", inplace=True)"
   ]
  },
  {
   "cell_type": "code",
   "execution_count": 5,
   "metadata": {},
   "outputs": [
    {
     "ename": "MemoryError",
     "evalue": "Unable to allocate 30.1 GiB for an array with shape (12, 1200, 1500, 187) and data type float64",
     "output_type": "error",
     "traceback": [
      "\u001b[1;31m---------------------------------------------------------------------------\u001b[0m",
      "\u001b[1;31mMemoryError\u001b[0m                               Traceback (most recent call last)",
      "\u001b[1;32m<ipython-input-5-03896f64e051>\u001b[0m in \u001b[0;36m<module>\u001b[1;34m\u001b[0m\n\u001b[1;32m----> 1\u001b[1;33m \u001b[0mdsLST\u001b[0m\u001b[1;33m.\u001b[0m\u001b[0mrio\u001b[0m\u001b[1;33m.\u001b[0m\u001b[0mto_raster\u001b[0m\u001b[1;33m(\u001b[0m\u001b[1;34m'C:/Users/Massimo/Documents/SchoolFolder/ThirdYear/Thesis/SentinelData/TIF_files/test.tif'\u001b[0m\u001b[1;33m)\u001b[0m\u001b[1;33m\u001b[0m\u001b[1;33m\u001b[0m\u001b[0m\n\u001b[0m",
      "\u001b[1;32m~\\anaconda3\\envs\\snap\\lib\\site-packages\\rioxarray\\raster_dataset.py\u001b[0m in \u001b[0;36mto_raster\u001b[1;34m(self, raster_path, driver, dtype, tags, windowed, recalc_transform, lock, compute, **profile_kwargs)\u001b[0m\n\u001b[0;32m    381\u001b[0m         \"\"\"\n\u001b[0;32m    382\u001b[0m         \u001b[0mvariable_dim\u001b[0m \u001b[1;33m=\u001b[0m \u001b[1;34m\"band_{}\"\u001b[0m\u001b[1;33m.\u001b[0m\u001b[0mformat\u001b[0m\u001b[1;33m(\u001b[0m\u001b[0muuid4\u001b[0m\u001b[1;33m(\u001b[0m\u001b[1;33m)\u001b[0m\u001b[1;33m)\u001b[0m\u001b[1;33m\u001b[0m\u001b[1;33m\u001b[0m\u001b[0m\n\u001b[1;32m--> 383\u001b[1;33m         \u001b[0mdata_array\u001b[0m \u001b[1;33m=\u001b[0m \u001b[0mself\u001b[0m\u001b[1;33m.\u001b[0m\u001b[0m_obj\u001b[0m\u001b[1;33m.\u001b[0m\u001b[0mto_array\u001b[0m\u001b[1;33m(\u001b[0m\u001b[0mdim\u001b[0m\u001b[1;33m=\u001b[0m\u001b[0mvariable_dim\u001b[0m\u001b[1;33m)\u001b[0m\u001b[1;33m\u001b[0m\u001b[1;33m\u001b[0m\u001b[0m\n\u001b[0m\u001b[0;32m    384\u001b[0m         \u001b[1;31m# write data array names to raster\u001b[0m\u001b[1;33m\u001b[0m\u001b[1;33m\u001b[0m\u001b[1;33m\u001b[0m\u001b[0m\n\u001b[0;32m    385\u001b[0m         \u001b[0mdata_array\u001b[0m\u001b[1;33m.\u001b[0m\u001b[0mattrs\u001b[0m\u001b[1;33m[\u001b[0m\u001b[1;34m\"long_name\"\u001b[0m\u001b[1;33m]\u001b[0m \u001b[1;33m=\u001b[0m \u001b[0mdata_array\u001b[0m\u001b[1;33m[\u001b[0m\u001b[0mvariable_dim\u001b[0m\u001b[1;33m]\u001b[0m\u001b[1;33m.\u001b[0m\u001b[0mvalues\u001b[0m\u001b[1;33m.\u001b[0m\u001b[0mtolist\u001b[0m\u001b[1;33m(\u001b[0m\u001b[1;33m)\u001b[0m\u001b[1;33m\u001b[0m\u001b[1;33m\u001b[0m\u001b[0m\n",
      "\u001b[1;32m~\\anaconda3\\envs\\snap\\lib\\site-packages\\xarray\\core\\dataset.py\u001b[0m in \u001b[0;36mto_array\u001b[1;34m(self, dim, name)\u001b[0m\n\u001b[0;32m   5125\u001b[0m         \u001b[0mdata_vars\u001b[0m \u001b[1;33m=\u001b[0m \u001b[1;33m[\u001b[0m\u001b[0mself\u001b[0m\u001b[1;33m.\u001b[0m\u001b[0mvariables\u001b[0m\u001b[1;33m[\u001b[0m\u001b[0mk\u001b[0m\u001b[1;33m]\u001b[0m \u001b[1;32mfor\u001b[0m \u001b[0mk\u001b[0m \u001b[1;32min\u001b[0m \u001b[0mself\u001b[0m\u001b[1;33m.\u001b[0m\u001b[0mdata_vars\u001b[0m\u001b[1;33m]\u001b[0m\u001b[1;33m\u001b[0m\u001b[1;33m\u001b[0m\u001b[0m\n\u001b[0;32m   5126\u001b[0m         \u001b[0mbroadcast_vars\u001b[0m \u001b[1;33m=\u001b[0m \u001b[0mbroadcast_variables\u001b[0m\u001b[1;33m(\u001b[0m\u001b[1;33m*\u001b[0m\u001b[0mdata_vars\u001b[0m\u001b[1;33m)\u001b[0m\u001b[1;33m\u001b[0m\u001b[1;33m\u001b[0m\u001b[0m\n\u001b[1;32m-> 5127\u001b[1;33m         \u001b[0mdata\u001b[0m \u001b[1;33m=\u001b[0m \u001b[0mduck_array_ops\u001b[0m\u001b[1;33m.\u001b[0m\u001b[0mstack\u001b[0m\u001b[1;33m(\u001b[0m\u001b[1;33m[\u001b[0m\u001b[0mb\u001b[0m\u001b[1;33m.\u001b[0m\u001b[0mdata\u001b[0m \u001b[1;32mfor\u001b[0m \u001b[0mb\u001b[0m \u001b[1;32min\u001b[0m \u001b[0mbroadcast_vars\u001b[0m\u001b[1;33m]\u001b[0m\u001b[1;33m,\u001b[0m \u001b[0maxis\u001b[0m\u001b[1;33m=\u001b[0m\u001b[1;36m0\u001b[0m\u001b[1;33m)\u001b[0m\u001b[1;33m\u001b[0m\u001b[1;33m\u001b[0m\u001b[0m\n\u001b[0m\u001b[0;32m   5128\u001b[0m \u001b[1;33m\u001b[0m\u001b[0m\n\u001b[0;32m   5129\u001b[0m         \u001b[0mcoords\u001b[0m \u001b[1;33m=\u001b[0m \u001b[0mdict\u001b[0m\u001b[1;33m(\u001b[0m\u001b[0mself\u001b[0m\u001b[1;33m.\u001b[0m\u001b[0mcoords\u001b[0m\u001b[1;33m)\u001b[0m\u001b[1;33m\u001b[0m\u001b[1;33m\u001b[0m\u001b[0m\n",
      "\u001b[1;32m~\\anaconda3\\envs\\snap\\lib\\site-packages\\xarray\\core\\duck_array_ops.py\u001b[0m in \u001b[0;36mstack\u001b[1;34m(arrays, axis)\u001b[0m\n\u001b[0;32m    315\u001b[0m \u001b[1;32mdef\u001b[0m \u001b[0mstack\u001b[0m\u001b[1;33m(\u001b[0m\u001b[0marrays\u001b[0m\u001b[1;33m,\u001b[0m \u001b[0maxis\u001b[0m\u001b[1;33m=\u001b[0m\u001b[1;36m0\u001b[0m\u001b[1;33m)\u001b[0m\u001b[1;33m:\u001b[0m\u001b[1;33m\u001b[0m\u001b[1;33m\u001b[0m\u001b[0m\n\u001b[0;32m    316\u001b[0m     \u001b[1;34m\"\"\"stack() with better dtype promotion rules.\"\"\"\u001b[0m\u001b[1;33m\u001b[0m\u001b[1;33m\u001b[0m\u001b[0m\n\u001b[1;32m--> 317\u001b[1;33m     \u001b[1;32mreturn\u001b[0m \u001b[0m_stack\u001b[0m\u001b[1;33m(\u001b[0m\u001b[0mas_shared_dtype\u001b[0m\u001b[1;33m(\u001b[0m\u001b[0marrays\u001b[0m\u001b[1;33m)\u001b[0m\u001b[1;33m,\u001b[0m \u001b[0maxis\u001b[0m\u001b[1;33m=\u001b[0m\u001b[0maxis\u001b[0m\u001b[1;33m)\u001b[0m\u001b[1;33m\u001b[0m\u001b[1;33m\u001b[0m\u001b[0m\n\u001b[0m\u001b[0;32m    318\u001b[0m \u001b[1;33m\u001b[0m\u001b[0m\n\u001b[0;32m    319\u001b[0m \u001b[1;33m\u001b[0m\u001b[0m\n",
      "\u001b[1;32m~\\anaconda3\\envs\\snap\\lib\\site-packages\\xarray\\core\\duck_array_ops.py\u001b[0m in \u001b[0;36mf\u001b[1;34m(*args, **kwargs)\u001b[0m\n\u001b[0;32m     59\u001b[0m \u001b[1;33m\u001b[0m\u001b[0m\n\u001b[0;32m     60\u001b[0m         \u001b[1;32mdef\u001b[0m \u001b[0mf\u001b[0m\u001b[1;33m(\u001b[0m\u001b[1;33m*\u001b[0m\u001b[0margs\u001b[0m\u001b[1;33m,\u001b[0m \u001b[1;33m**\u001b[0m\u001b[0mkwargs\u001b[0m\u001b[1;33m)\u001b[0m\u001b[1;33m:\u001b[0m\u001b[1;33m\u001b[0m\u001b[1;33m\u001b[0m\u001b[0m\n\u001b[1;32m---> 61\u001b[1;33m             \u001b[1;32mreturn\u001b[0m \u001b[0mgetattr\u001b[0m\u001b[1;33m(\u001b[0m\u001b[0meager_module\u001b[0m\u001b[1;33m,\u001b[0m \u001b[0mname\u001b[0m\u001b[1;33m)\u001b[0m\u001b[1;33m(\u001b[0m\u001b[1;33m*\u001b[0m\u001b[0margs\u001b[0m\u001b[1;33m,\u001b[0m \u001b[1;33m**\u001b[0m\u001b[0mkwargs\u001b[0m\u001b[1;33m)\u001b[0m\u001b[1;33m\u001b[0m\u001b[1;33m\u001b[0m\u001b[0m\n\u001b[0m\u001b[0;32m     62\u001b[0m \u001b[1;33m\u001b[0m\u001b[0m\n\u001b[0;32m     63\u001b[0m     \u001b[1;32mreturn\u001b[0m \u001b[0mf\u001b[0m\u001b[1;33m\u001b[0m\u001b[1;33m\u001b[0m\u001b[0m\n",
      "\u001b[1;32m<__array_function__ internals>\u001b[0m in \u001b[0;36mstack\u001b[1;34m(*args, **kwargs)\u001b[0m\n",
      "\u001b[1;32m~\\anaconda3\\envs\\snap\\lib\\site-packages\\numpy\\core\\shape_base.py\u001b[0m in \u001b[0;36mstack\u001b[1;34m(arrays, axis, out)\u001b[0m\n\u001b[0;32m    432\u001b[0m     \u001b[0msl\u001b[0m \u001b[1;33m=\u001b[0m \u001b[1;33m(\u001b[0m\u001b[0mslice\u001b[0m\u001b[1;33m(\u001b[0m\u001b[1;32mNone\u001b[0m\u001b[1;33m)\u001b[0m\u001b[1;33m,\u001b[0m\u001b[1;33m)\u001b[0m \u001b[1;33m*\u001b[0m \u001b[0maxis\u001b[0m \u001b[1;33m+\u001b[0m \u001b[1;33m(\u001b[0m\u001b[0m_nx\u001b[0m\u001b[1;33m.\u001b[0m\u001b[0mnewaxis\u001b[0m\u001b[1;33m,\u001b[0m\u001b[1;33m)\u001b[0m\u001b[1;33m\u001b[0m\u001b[1;33m\u001b[0m\u001b[0m\n\u001b[0;32m    433\u001b[0m     \u001b[0mexpanded_arrays\u001b[0m \u001b[1;33m=\u001b[0m \u001b[1;33m[\u001b[0m\u001b[0marr\u001b[0m\u001b[1;33m[\u001b[0m\u001b[0msl\u001b[0m\u001b[1;33m]\u001b[0m \u001b[1;32mfor\u001b[0m \u001b[0marr\u001b[0m \u001b[1;32min\u001b[0m \u001b[0marrays\u001b[0m\u001b[1;33m]\u001b[0m\u001b[1;33m\u001b[0m\u001b[1;33m\u001b[0m\u001b[0m\n\u001b[1;32m--> 434\u001b[1;33m     \u001b[1;32mreturn\u001b[0m \u001b[0m_nx\u001b[0m\u001b[1;33m.\u001b[0m\u001b[0mconcatenate\u001b[0m\u001b[1;33m(\u001b[0m\u001b[0mexpanded_arrays\u001b[0m\u001b[1;33m,\u001b[0m \u001b[0maxis\u001b[0m\u001b[1;33m=\u001b[0m\u001b[0maxis\u001b[0m\u001b[1;33m,\u001b[0m \u001b[0mout\u001b[0m\u001b[1;33m=\u001b[0m\u001b[0mout\u001b[0m\u001b[1;33m)\u001b[0m\u001b[1;33m\u001b[0m\u001b[1;33m\u001b[0m\u001b[0m\n\u001b[0m\u001b[0;32m    435\u001b[0m \u001b[1;33m\u001b[0m\u001b[0m\n\u001b[0;32m    436\u001b[0m \u001b[1;33m\u001b[0m\u001b[0m\n",
      "\u001b[1;32m<__array_function__ internals>\u001b[0m in \u001b[0;36mconcatenate\u001b[1;34m(*args, **kwargs)\u001b[0m\n",
      "\u001b[1;31mMemoryError\u001b[0m: Unable to allocate 30.1 GiB for an array with shape (12, 1200, 1500, 187) and data type float64"
     ]
    }
   ],
   "source": [
    "dsLST.rio.to_raster('C:/Users/Massimo/Documents/SchoolFolder/ThirdYear/Thesis/SentinelData/TIF_files/test.tif')"
   ]
  }
 ],
 "metadata": {
  "interpreter": {
   "hash": "9e9ba7665b06092894b9f43a817e1c81059b3bdeb345738b866505d682b47b54"
  },
  "kernelspec": {
   "display_name": "Python 3.6.15 ('snap')",
   "language": "python",
   "name": "python3"
  },
  "language_info": {
   "codemirror_mode": {
    "name": "ipython",
    "version": 3
   },
   "file_extension": ".py",
   "mimetype": "text/x-python",
   "name": "python",
   "nbconvert_exporter": "python",
   "pygments_lexer": "ipython3",
   "version": "3.6.15"
  },
  "orig_nbformat": 4
 },
 "nbformat": 4,
 "nbformat_minor": 2
}
